{
 "cells": [
  {
   "cell_type": "markdown",
   "metadata": {
    "id": "9cb7ae_sUPr1"
   },
   "source": [
    "#Spike data visualizations of 20 all-to-all connected excitory oscillators\n"
   ]
  },
  {
   "cell_type": "markdown",
   "metadata": {
    "id": "mCxOtDVJaULi"
   },
   "source": [
    "Author Henrik Horst, Supervisor Maximiliane Noll\n",
    "\n",
    "16.05.2022"
   ]
  },
  {
   "cell_type": "code",
   "execution_count": null,
   "metadata": {
    "colab": {
     "base_uri": "https://localhost:8080/"
    },
    "id": "sdgNnJGs6EpL",
    "outputId": "158e7562-bfde-417d-f64d-f1fdf9be82b9"
   },
   "outputs": [
    {
     "name": "stdout",
     "output_type": "stream",
     "text": [
      "Drive already mounted at /content/drive; to attempt to forcibly remount, call drive.mount(\"/content/drive\", force_remount=True).\n"
     ]
    }
   ],
   "source": [
    "#only necessary in gdrive - skip if not using colab\n",
    "from google.colab import drive\n",
    "drive.mount('/content/drive')"
   ]
  },
  {
   "cell_type": "code",
   "execution_count": null,
   "metadata": {
    "colab": {
     "base_uri": "https://localhost:8080/"
    },
    "id": "no9KJQ88A2Qt",
    "outputId": "8a6120ee-5d26-41f7-af67-9478d56112e0"
   },
   "outputs": [
    {
     "name": "stdout",
     "output_type": "stream",
     "text": [
      "/content/drive/My Drive/EdgeOfChaos\n",
      "/content/drive/MyDrive/EdgeOfChaos\n"
     ]
    }
   ],
   "source": [
    "#check current working directory and change to the appropriate directory\n",
    "!pwd\n",
    "%cd \"/content/drive/MyDrive/EdgeOfChaos\""
   ]
  },
  {
   "cell_type": "code",
   "execution_count": null,
   "metadata": {
    "colab": {
     "base_uri": "https://localhost:8080/"
    },
    "id": "55yl6KnlxAuy",
    "outputId": "805d2d5a-fc71-43ea-b426-1564a430ef25"
   },
   "outputs": [
    {
     "name": "stdout",
     "output_type": "stream",
     "text": [
      "Requirement already satisfied: powerlaw in /usr/local/lib/python3.7/dist-packages (1.5)\n",
      "Requirement already satisfied: matplotlib in /usr/local/lib/python3.7/dist-packages (from powerlaw) (3.2.2)\n",
      "Requirement already satisfied: numpy in /usr/local/lib/python3.7/dist-packages (from powerlaw) (1.21.6)\n",
      "Requirement already satisfied: mpmath in /usr/local/lib/python3.7/dist-packages (from powerlaw) (1.2.1)\n",
      "Requirement already satisfied: scipy in /usr/local/lib/python3.7/dist-packages (from powerlaw) (1.4.1)\n",
      "Requirement already satisfied: pyparsing!=2.0.4,!=2.1.2,!=2.1.6,>=2.0.1 in /usr/local/lib/python3.7/dist-packages (from matplotlib->powerlaw) (3.0.8)\n",
      "Requirement already satisfied: cycler>=0.10 in /usr/local/lib/python3.7/dist-packages (from matplotlib->powerlaw) (0.11.0)\n",
      "Requirement already satisfied: kiwisolver>=1.0.1 in /usr/local/lib/python3.7/dist-packages (from matplotlib->powerlaw) (1.4.2)\n",
      "Requirement already satisfied: python-dateutil>=2.1 in /usr/local/lib/python3.7/dist-packages (from matplotlib->powerlaw) (2.8.2)\n",
      "Requirement already satisfied: typing-extensions in /usr/local/lib/python3.7/dist-packages (from kiwisolver>=1.0.1->matplotlib->powerlaw) (4.2.0)\n",
      "Requirement already satisfied: six>=1.5 in /usr/local/lib/python3.7/dist-packages (from python-dateutil>=2.1->matplotlib->powerlaw) (1.15.0)\n",
      "Requirement already satisfied: mpmath in /usr/local/lib/python3.7/dist-packages (1.2.1)\n"
     ]
    }
   ],
   "source": [
    "#required for data fitting to a powerlaw\n",
    "!pip install powerlaw\n",
    "!pip install mpmath"
   ]
  },
  {
   "cell_type": "code",
   "execution_count": null,
   "metadata": {
    "id": "nZPrIiSO6CZJ"
   },
   "outputs": [],
   "source": [
    "#import relevant libraries\n",
    "%matplotlib inline\n",
    "import matplotlib.pyplot as plt\n",
    "import numpy as np\n",
    "import pandas as pd\n",
    "import random\n",
    "\n",
    " \n",
    "\n",
    "# Set the random seed for data generation (just for test cases)\n",
    "\n",
    "np.random.seed(42)\n",
    "\n",
    "# Set spike threshold (above this value the output value of an oscillator is considered a spike)\n",
    "th=1"
   ]
  },
  {
   "cell_type": "markdown",
   "metadata": {
    "id": "s2h7Jr45RsAO"
   },
   "source": [
    "First let's define a function to extract the spikes from the simulation data"
   ]
  },
  {
   "cell_type": "code",
   "execution_count": null,
   "metadata": {
    "id": "FQ4EWTllDoH0"
   },
   "outputs": [],
   "source": [
    "def get_spikes(arr,th=th, rise=True):\n",
    "  '''\n",
    "    Function for extracting spikes from a block of the oscillators output \n",
    "    voltage values given the spiking threshold.\n",
    "    Parameters:\n",
    "        arr: array of voltage values, each column corresponds to one oscillator, a numpy array\n",
    "        th: threshold value above which the output voltage is considered to be a spike, a scalar\n",
    "        rise: For True get the time value where voltage goes above the threshold(beginning of the spike) and for False where the voltage\n",
    "              goes below the threshold (end of spike)\n",
    "    Returns:\n",
    "        an array to filter the arr or any other corresponding array for the extracted values\n",
    "        (think of this as an indexing block which gives you just the values which we want by the operation specified in this function)\n",
    "  '''\n",
    "  NST = np.diff(np.sign(arr-th),axis=0) \n",
    "  #print(NST)\n",
    "  if rise==True:\n",
    "    NST = np.where(NST>1)\n",
    "  if rise==False:\n",
    "    NST = np.where(NST<-1)\n",
    "  #print(NST)\n",
    "  return NST"
   ]
  },
  {
   "cell_type": "markdown",
   "metadata": {
    "id": "7d1kfAx4QL17"
   },
   "source": [
    "#### Test case for function get_spikes\n",
    "\n",
    "Click below to see the code."
   ]
  },
  {
   "cell_type": "code",
   "execution_count": null,
   "metadata": {
    "colab": {
     "base_uri": "https://localhost:8080/"
    },
    "id": "QUgHSI9BOUx7",
    "outputId": "a85f3a8f-3bdc-4f67-cb09-4bd10b7a24a1"
   },
   "outputs": [
    {
     "name": "stdout",
     "output_type": "stream",
     "text": [
      "[[0]\n",
      " [4]\n",
      " [0]\n",
      " [0]\n",
      " [5]\n",
      " [0]]\n",
      "[1 4]\n"
     ]
    }
   ],
   "source": [
    "# test case for function get_spikes\n",
    "test_arr= np.array([[0],[4],[0],[0],[5],[0]])\n",
    "print(test_arr)\n",
    "time=np.array([[0],[1],[2],[3],[4],[5]])\n",
    "x=get_spikes(test_arr,rise=False)\n",
    "print(time[x])"
   ]
  },
  {
   "cell_type": "markdown",
   "metadata": {
    "id": "PojOKW-Nsf91"
   },
   "source": [
    "##Load data"
   ]
  },
  {
   "cell_type": "code",
   "execution_count": null,
   "metadata": {
    "id": "r6L81uX49TVx"
   },
   "outputs": [],
   "source": [
    "#read in data from LTSpice into pandas dataframe\n",
    "df = pd.read_csv('/content/drive/MyDrive/EdgeOfChaos/data/fireflys1.txt', delimiter = \"\\t\")"
   ]
  },
  {
   "cell_type": "code",
   "execution_count": null,
   "metadata": {
    "colab": {
     "base_uri": "https://localhost:8080/",
     "height": 299
    },
    "id": "zYxRCVKM-c76",
    "outputId": "df795b25-88cb-47a6-fd09-1ee89c10acb7"
   },
   "outputs": [
    {
     "data": {
      "text/html": [
       "\n",
       "  <div id=\"df-e2e3e638-3921-4628-9c9a-a167dafa04d1\">\n",
       "    <div class=\"colab-df-container\">\n",
       "      <div>\n",
       "<style scoped>\n",
       "    .dataframe tbody tr th:only-of-type {\n",
       "        vertical-align: middle;\n",
       "    }\n",
       "\n",
       "    .dataframe tbody tr th {\n",
       "        vertical-align: top;\n",
       "    }\n",
       "\n",
       "    .dataframe thead th {\n",
       "        text-align: right;\n",
       "    }\n",
       "</style>\n",
       "<table border=\"1\" class=\"dataframe\">\n",
       "  <thead>\n",
       "    <tr style=\"text-align: right;\">\n",
       "      <th></th>\n",
       "      <th>time</th>\n",
       "      <th>V(l1)</th>\n",
       "      <th>V(l2)</th>\n",
       "      <th>V(l3)</th>\n",
       "      <th>V(l4)</th>\n",
       "      <th>V(l5)</th>\n",
       "      <th>V(l6)</th>\n",
       "      <th>V(l7)</th>\n",
       "      <th>V(l8)</th>\n",
       "      <th>V(l9)</th>\n",
       "      <th>...</th>\n",
       "      <th>V(r1)</th>\n",
       "      <th>V(r2)</th>\n",
       "      <th>V(r3)</th>\n",
       "      <th>V(r4)</th>\n",
       "      <th>V(r5)</th>\n",
       "      <th>V(r6)</th>\n",
       "      <th>V(r7)</th>\n",
       "      <th>V(r8)</th>\n",
       "      <th>V(r9)</th>\n",
       "      <th>V(r10)</th>\n",
       "    </tr>\n",
       "  </thead>\n",
       "  <tbody>\n",
       "    <tr>\n",
       "      <th>0</th>\n",
       "      <td>0.000000</td>\n",
       "      <td>0.000003</td>\n",
       "      <td>0.000003</td>\n",
       "      <td>0.000003</td>\n",
       "      <td>0.000003</td>\n",
       "      <td>0.000003</td>\n",
       "      <td>0.000003</td>\n",
       "      <td>0.000003</td>\n",
       "      <td>0.000003</td>\n",
       "      <td>0.000003</td>\n",
       "      <td>...</td>\n",
       "      <td>0.000003</td>\n",
       "      <td>0.000003</td>\n",
       "      <td>0.000003</td>\n",
       "      <td>0.000003</td>\n",
       "      <td>0.000003</td>\n",
       "      <td>0.000003</td>\n",
       "      <td>0.000003</td>\n",
       "      <td>0.000003</td>\n",
       "      <td>0.000003</td>\n",
       "      <td>0.000003</td>\n",
       "    </tr>\n",
       "    <tr>\n",
       "      <th>1</th>\n",
       "      <td>0.000030</td>\n",
       "      <td>0.000003</td>\n",
       "      <td>0.000003</td>\n",
       "      <td>0.000003</td>\n",
       "      <td>0.000003</td>\n",
       "      <td>0.000003</td>\n",
       "      <td>0.000003</td>\n",
       "      <td>0.000003</td>\n",
       "      <td>0.000003</td>\n",
       "      <td>0.000003</td>\n",
       "      <td>...</td>\n",
       "      <td>0.000003</td>\n",
       "      <td>0.000003</td>\n",
       "      <td>0.000003</td>\n",
       "      <td>0.000003</td>\n",
       "      <td>0.000003</td>\n",
       "      <td>0.000003</td>\n",
       "      <td>0.000003</td>\n",
       "      <td>0.000003</td>\n",
       "      <td>0.000003</td>\n",
       "      <td>0.000003</td>\n",
       "    </tr>\n",
       "    <tr>\n",
       "      <th>2</th>\n",
       "      <td>0.000090</td>\n",
       "      <td>0.000002</td>\n",
       "      <td>0.000002</td>\n",
       "      <td>0.000002</td>\n",
       "      <td>0.000002</td>\n",
       "      <td>0.000002</td>\n",
       "      <td>0.000002</td>\n",
       "      <td>0.000002</td>\n",
       "      <td>0.000002</td>\n",
       "      <td>0.000002</td>\n",
       "      <td>...</td>\n",
       "      <td>0.000002</td>\n",
       "      <td>0.000002</td>\n",
       "      <td>0.000002</td>\n",
       "      <td>0.000002</td>\n",
       "      <td>0.000002</td>\n",
       "      <td>0.000002</td>\n",
       "      <td>0.000002</td>\n",
       "      <td>0.000002</td>\n",
       "      <td>0.000002</td>\n",
       "      <td>0.000002</td>\n",
       "    </tr>\n",
       "    <tr>\n",
       "      <th>3</th>\n",
       "      <td>0.000451</td>\n",
       "      <td>0.000002</td>\n",
       "      <td>0.000002</td>\n",
       "      <td>0.000002</td>\n",
       "      <td>0.000002</td>\n",
       "      <td>0.000002</td>\n",
       "      <td>0.000002</td>\n",
       "      <td>0.000002</td>\n",
       "      <td>0.000002</td>\n",
       "      <td>0.000002</td>\n",
       "      <td>...</td>\n",
       "      <td>0.000002</td>\n",
       "      <td>0.000002</td>\n",
       "      <td>0.000002</td>\n",
       "      <td>0.000002</td>\n",
       "      <td>0.000002</td>\n",
       "      <td>0.000002</td>\n",
       "      <td>0.000002</td>\n",
       "      <td>0.000002</td>\n",
       "      <td>0.000002</td>\n",
       "      <td>0.000002</td>\n",
       "    </tr>\n",
       "    <tr>\n",
       "      <th>4</th>\n",
       "      <td>0.000931</td>\n",
       "      <td>0.000001</td>\n",
       "      <td>0.000001</td>\n",
       "      <td>0.000001</td>\n",
       "      <td>0.000001</td>\n",
       "      <td>0.000001</td>\n",
       "      <td>0.000001</td>\n",
       "      <td>0.000001</td>\n",
       "      <td>0.000001</td>\n",
       "      <td>0.000001</td>\n",
       "      <td>...</td>\n",
       "      <td>0.000001</td>\n",
       "      <td>0.000001</td>\n",
       "      <td>0.000001</td>\n",
       "      <td>0.000001</td>\n",
       "      <td>0.000001</td>\n",
       "      <td>0.000001</td>\n",
       "      <td>0.000001</td>\n",
       "      <td>0.000001</td>\n",
       "      <td>0.000001</td>\n",
       "      <td>0.000001</td>\n",
       "    </tr>\n",
       "  </tbody>\n",
       "</table>\n",
       "<p>5 rows × 21 columns</p>\n",
       "</div>\n",
       "      <button class=\"colab-df-convert\" onclick=\"convertToInteractive('df-e2e3e638-3921-4628-9c9a-a167dafa04d1')\"\n",
       "              title=\"Convert this dataframe to an interactive table.\"\n",
       "              style=\"display:none;\">\n",
       "        \n",
       "  <svg xmlns=\"http://www.w3.org/2000/svg\" height=\"24px\"viewBox=\"0 0 24 24\"\n",
       "       width=\"24px\">\n",
       "    <path d=\"M0 0h24v24H0V0z\" fill=\"none\"/>\n",
       "    <path d=\"M18.56 5.44l.94 2.06.94-2.06 2.06-.94-2.06-.94-.94-2.06-.94 2.06-2.06.94zm-11 1L8.5 8.5l.94-2.06 2.06-.94-2.06-.94L8.5 2.5l-.94 2.06-2.06.94zm10 10l.94 2.06.94-2.06 2.06-.94-2.06-.94-.94-2.06-.94 2.06-2.06.94z\"/><path d=\"M17.41 7.96l-1.37-1.37c-.4-.4-.92-.59-1.43-.59-.52 0-1.04.2-1.43.59L10.3 9.45l-7.72 7.72c-.78.78-.78 2.05 0 2.83L4 21.41c.39.39.9.59 1.41.59.51 0 1.02-.2 1.41-.59l7.78-7.78 2.81-2.81c.8-.78.8-2.07 0-2.86zM5.41 20L4 18.59l7.72-7.72 1.47 1.35L5.41 20z\"/>\n",
       "  </svg>\n",
       "      </button>\n",
       "      \n",
       "  <style>\n",
       "    .colab-df-container {\n",
       "      display:flex;\n",
       "      flex-wrap:wrap;\n",
       "      gap: 12px;\n",
       "    }\n",
       "\n",
       "    .colab-df-convert {\n",
       "      background-color: #E8F0FE;\n",
       "      border: none;\n",
       "      border-radius: 50%;\n",
       "      cursor: pointer;\n",
       "      display: none;\n",
       "      fill: #1967D2;\n",
       "      height: 32px;\n",
       "      padding: 0 0 0 0;\n",
       "      width: 32px;\n",
       "    }\n",
       "\n",
       "    .colab-df-convert:hover {\n",
       "      background-color: #E2EBFA;\n",
       "      box-shadow: 0px 1px 2px rgba(60, 64, 67, 0.3), 0px 1px 3px 1px rgba(60, 64, 67, 0.15);\n",
       "      fill: #174EA6;\n",
       "    }\n",
       "\n",
       "    [theme=dark] .colab-df-convert {\n",
       "      background-color: #3B4455;\n",
       "      fill: #D2E3FC;\n",
       "    }\n",
       "\n",
       "    [theme=dark] .colab-df-convert:hover {\n",
       "      background-color: #434B5C;\n",
       "      box-shadow: 0px 1px 3px 1px rgba(0, 0, 0, 0.15);\n",
       "      filter: drop-shadow(0px 1px 2px rgba(0, 0, 0, 0.3));\n",
       "      fill: #FFFFFF;\n",
       "    }\n",
       "  </style>\n",
       "\n",
       "      <script>\n",
       "        const buttonEl =\n",
       "          document.querySelector('#df-e2e3e638-3921-4628-9c9a-a167dafa04d1 button.colab-df-convert');\n",
       "        buttonEl.style.display =\n",
       "          google.colab.kernel.accessAllowed ? 'block' : 'none';\n",
       "\n",
       "        async function convertToInteractive(key) {\n",
       "          const element = document.querySelector('#df-e2e3e638-3921-4628-9c9a-a167dafa04d1');\n",
       "          const dataTable =\n",
       "            await google.colab.kernel.invokeFunction('convertToInteractive',\n",
       "                                                     [key], {});\n",
       "          if (!dataTable) return;\n",
       "\n",
       "          const docLinkHtml = 'Like what you see? Visit the ' +\n",
       "            '<a target=\"_blank\" href=https://colab.research.google.com/notebooks/data_table.ipynb>data table notebook</a>'\n",
       "            + ' to learn more about interactive tables.';\n",
       "          element.innerHTML = '';\n",
       "          dataTable['output_type'] = 'display_data';\n",
       "          await google.colab.output.renderOutput(dataTable, element);\n",
       "          const docLink = document.createElement('div');\n",
       "          docLink.innerHTML = docLinkHtml;\n",
       "          element.appendChild(docLink);\n",
       "        }\n",
       "      </script>\n",
       "    </div>\n",
       "  </div>\n",
       "  "
      ],
      "text/plain": [
       "       time     V(l1)     V(l2)     V(l3)     V(l4)     V(l5)     V(l6)  \\\n",
       "0  0.000000  0.000003  0.000003  0.000003  0.000003  0.000003  0.000003   \n",
       "1  0.000030  0.000003  0.000003  0.000003  0.000003  0.000003  0.000003   \n",
       "2  0.000090  0.000002  0.000002  0.000002  0.000002  0.000002  0.000002   \n",
       "3  0.000451  0.000002  0.000002  0.000002  0.000002  0.000002  0.000002   \n",
       "4  0.000931  0.000001  0.000001  0.000001  0.000001  0.000001  0.000001   \n",
       "\n",
       "      V(l7)     V(l8)     V(l9)  ...     V(r1)     V(r2)     V(r3)     V(r4)  \\\n",
       "0  0.000003  0.000003  0.000003  ...  0.000003  0.000003  0.000003  0.000003   \n",
       "1  0.000003  0.000003  0.000003  ...  0.000003  0.000003  0.000003  0.000003   \n",
       "2  0.000002  0.000002  0.000002  ...  0.000002  0.000002  0.000002  0.000002   \n",
       "3  0.000002  0.000002  0.000002  ...  0.000002  0.000002  0.000002  0.000002   \n",
       "4  0.000001  0.000001  0.000001  ...  0.000001  0.000001  0.000001  0.000001   \n",
       "\n",
       "      V(r5)     V(r6)     V(r7)     V(r8)     V(r9)    V(r10)  \n",
       "0  0.000003  0.000003  0.000003  0.000003  0.000003  0.000003  \n",
       "1  0.000003  0.000003  0.000003  0.000003  0.000003  0.000003  \n",
       "2  0.000002  0.000002  0.000002  0.000002  0.000002  0.000002  \n",
       "3  0.000002  0.000002  0.000002  0.000002  0.000002  0.000002  \n",
       "4  0.000001  0.000001  0.000001  0.000001  0.000001  0.000001  \n",
       "\n",
       "[5 rows x 21 columns]"
      ]
     },
     "execution_count": 489,
     "metadata": {},
     "output_type": "execute_result"
    }
   ],
   "source": [
    "df.head()"
   ]
  },
  {
   "cell_type": "code",
   "execution_count": null,
   "metadata": {
    "colab": {
     "base_uri": "https://localhost:8080/"
    },
    "id": "iq4SiW6PE_6N",
    "outputId": "4314a043-c7b6-460c-f917-925de90cd65d"
   },
   "outputs": [
    {
     "name": "stdout",
     "output_type": "stream",
     "text": [
      "(225047, 20)\n",
      "(225048, 20)\n"
     ]
    }
   ],
   "source": [
    "#extract values from the dataframe\n",
    "spike_data=df.iloc[:,1:].values #now data in numpy array format\n",
    "print(spike_data.shape)\n",
    "spike_data=np.concatenate((np.zeros((1,20)), spike_data), axis=0) #this is due to the np.diff in the get_spikes function which\n",
    "#takes the difference of two values, so to consider also the first value on its own we have to add a zero in front, this is also\n",
    "#necessary to not induce a time shift in the filtered time array with the reurn value from get_spike()\n",
    "print(spike_data.shape)\n",
    "time=df.iloc[:,0].values"
   ]
  },
  {
   "cell_type": "markdown",
   "metadata": {
    "id": "X1sr1MCotOLd"
   },
   "source": [
    "#### Evaluate time array\n",
    "\n",
    "Click below to see the code."
   ]
  },
  {
   "cell_type": "code",
   "execution_count": null,
   "metadata": {
    "colab": {
     "base_uri": "https://localhost:8080/"
    },
    "id": "r7gskkthb_au",
    "outputId": "24a54530-7df5-468a-ac6e-48b056ddcd1b"
   },
   "outputs": [
    {
     "data": {
      "text/plain": [
       "7.009397506863024e-09"
      ]
     },
     "execution_count": 491,
     "metadata": {},
     "output_type": "execute_result"
    }
   ],
   "source": [
    "np.min(np.diff(time))"
   ]
  },
  {
   "cell_type": "code",
   "execution_count": null,
   "metadata": {
    "colab": {
     "base_uri": "https://localhost:8080/"
    },
    "id": "6PnsLuIYdc5_",
    "outputId": "72d404ea-7684-4f41-f4a5-80f280de2b1a"
   },
   "outputs": [
    {
     "data": {
      "text/plain": [
       "0.087890625"
      ]
     },
     "execution_count": 492,
     "metadata": {},
     "output_type": "execute_result"
    }
   ],
   "source": [
    "np.max(np.diff(time))"
   ]
  },
  {
   "cell_type": "code",
   "execution_count": null,
   "metadata": {
    "colab": {
     "base_uri": "https://localhost:8080/"
    },
    "id": "9renPe8KhAk_",
    "outputId": "3287c4fc-2642-42f1-c7a8-6dde4ee8e04f"
   },
   "outputs": [
    {
     "data": {
      "text/plain": [
       "0.00039991379540182893"
      ]
     },
     "execution_count": 493,
     "metadata": {},
     "output_type": "execute_result"
    }
   ],
   "source": [
    "np.mean(np.diff(time))"
   ]
  },
  {
   "cell_type": "markdown",
   "metadata": {
    "id": "_2Y2ws7Mtgz-"
   },
   "source": [
    "As we see the time was not sampled uniform but is quite distributed around the mean(compare mean value with min and max value)"
   ]
  },
  {
   "cell_type": "markdown",
   "metadata": {
    "id": "lhgkv8ZztRJX"
   },
   "source": [
    "##Assemble the data"
   ]
  },
  {
   "cell_type": "code",
   "execution_count": null,
   "metadata": {
    "id": "KfQcePCZSYeT"
   },
   "outputs": [],
   "source": [
    "number_of_oscillators=spike_data.shape[1]"
   ]
  },
  {
   "cell_type": "code",
   "execution_count": null,
   "metadata": {
    "id": "oDRy0RgNMPz9"
   },
   "outputs": [],
   "source": [
    "#write spike times in form of different lengths numpy arrays into one list with each entry the spikes of one oscillator\n",
    "all_spike_start_times=[]\n",
    "for i in range(number_of_oscillators):\n",
    "  all_spike_start_times.append(time[get_spikes(spike_data[:,i])])\n",
    "\n"
   ]
  },
  {
   "cell_type": "markdown",
   "metadata": {
    "id": "3Npqr5nzSnvx"
   },
   "source": [
    "Spike raster plot for visualization"
   ]
  },
  {
   "cell_type": "code",
   "execution_count": null,
   "metadata": {
    "colab": {
     "base_uri": "https://localhost:8080/",
     "height": 365
    },
    "id": "6_-OkSbq_wm_",
    "outputId": "bf464082-da68-476e-ff51-eef2df02ff36"
   },
   "outputs": [
    {
     "data": {
      "application/vnd.google.colaboratory.intrinsic+json": {
       "type": "string"
      },
      "text/plain": [
       "'\\nSo which number in the plot below corresponds to which oscillator in the LTSpice file?\\nIn the LTSpice data file the 20 oscillator are divided into a left and right bank\\n0-9 corresponds to oscillators in the left bank from top to bottom ... 0==L1, 1==L2..\\n10-19 corresponds to oscillators in the right bank from top to bottom ... 10==R1, 11==R2..\\n'"
      ]
     },
     "execution_count": 496,
     "metadata": {},
     "output_type": "execute_result"
    },
    {
     "data": {
      "image/png": "[encoded data removed]",
      "text/plain": [
       "<Figure size 432x288 with 1 Axes>"
      ]
     },
     "metadata": {
      "needs_background": "light"
     },
     "output_type": "display_data"
    }
   ],
   "source": [
    "#This is the final plotting step :)\n",
    "\n",
    "# Set neural data\n",
    "neuralData = all_spike_start_times\n",
    "#print(neuralData)\n",
    " \n",
    "\n",
    "\n",
    "# Set spike colors for each neuron\n",
    "colorCodes = ('tab:blue','tab:orange','tab:green','tab:red','tab:purple','tab:brown','tab:pink','tab:gray',\n",
    "'tab:olive','tab:cyan','tab:blue','tab:orange','tab:green','tab:red','tab:purple','tab:brown','tab:pink','tab:gray',\n",
    "'tab:olive','tab:cyan')                    \n",
    "\n",
    "                                    \n",
    "\n",
    "# Draw a spike raster plot\n",
    "fig, ax = plt.subplots()\n",
    "ax.eventplot(neuralData, color=colorCodes, lineoffsets=1, linewidths=0.5, linelengths = 0.6)     \n",
    "\n",
    "ax.set_yticks(np.arange(20))\n",
    "\n",
    "# Provide the title for the spike raster plot\n",
    "\n",
    "plt.title('Spike raster plot')\n",
    "\n",
    "# Give x axis label for the spike raster plot\n",
    "\n",
    "plt.xlabel('time[s]')\n",
    "\n",
    "# Give y axis label for the spike raster plot\n",
    "\n",
    "plt.ylabel('Oscillator')\n",
    "\n",
    "#plt.show\n",
    "\n",
    "'''\n",
    "So which number in the plot below corresponds to which oscillator in the LTSpice file?\n",
    "In the LTSpice data file the 20 oscillator are divided into a left and right bank\n",
    "0-9 corresponds to oscillators in the left bank from top to bottom ... 0==L1, 1==L2..\n",
    "10-19 corresponds to oscillators in the right bank from top to bottom ... 10==R1, 11==R2..\n",
    "'''"
   ]
  },
  {
   "cell_type": "markdown",
   "metadata": {
    "id": "hTvXbjXIucnl"
   },
   "source": [
    "#### Eventplot sample case\n",
    "\n",
    "Play around with eventplots for understanding and testing (just included for programming convenience that you can quickly test something out about eventplots without the \"complicated\" neural data)\n",
    "\n",
    "Click below to see the code."
   ]
  },
  {
   "cell_type": "code",
   "execution_count": null,
   "metadata": {
    "colab": {
     "base_uri": "https://localhost:8080/"
    },
    "id": "mQLUMeL8ucnm",
    "outputId": "dee11292-1f9d-49a8-ef58-812bcf2f1dda"
   },
   "outputs": [
    {
     "data": {
      "text/plain": [
       "Text(0, 0.5, 'Neuron')"
      ]
     },
     "execution_count": 497,
     "metadata": {},
     "output_type": "execute_result"
    },
    {
     "data": {
      "image/png": "[encoded data removed]",
      "text/plain": [
       "<Figure size 432x288 with 1 Axes>"
      ]
     },
     "metadata": {
      "needs_background": "light"
     },
     "output_type": "display_data"
    }
   ],
   "source": [
    "# Create rows of random data with 50 data points simulating rows of spike trains\n",
    "\n",
    "test_data = np.random.random([8, 50])\n",
    "\n",
    " \n",
    "\n",
    "# Set different colors for each neuron\n",
    "\n",
    "colorCodes = np.array([[0, 0.5, 0],\n",
    "\n",
    "                        [1, 0, 0],\n",
    "\n",
    "                        [0, 1, 0],\n",
    "\n",
    "                        [0, 0, 1],\n",
    "\n",
    "                        [1, 1, 0],\n",
    "\n",
    "                        [1, 0, 1],\n",
    "\n",
    "                        [0, 1, 1],\n",
    "\n",
    "                        [1, 0, 1]])\n",
    "\n",
    "                  \n",
    "\n",
    "# Set spike line for each neuron\n",
    "\n",
    "#lineSize = [0.4, 0.3, 0.2, 0.8, 0.5, 0.6, 0.7, 0.9]                                  \n",
    "\n",
    "        \n",
    "\n",
    "# Draw a spike raster plot\n",
    "\n",
    "plt.eventplot(test_data, color=colorCodes, lineoffsets=2)#, linelengths = lineSize)     \n",
    "\n",
    " \n",
    "\n",
    "# Provide the title for the spike raster plot\n",
    "\n",
    "plt.title('Spike raster plot')\n",
    "\n",
    " \n",
    "\n",
    "# Give x axis label for the spike raster plot\n",
    "\n",
    "plt.xlabel('time')\n",
    "\n",
    " \n",
    "\n",
    "# Give y axis label for the spike raster plot\n",
    "\n",
    "plt.ylabel('Neuron')\n"
   ]
  },
  {
   "cell_type": "markdown",
   "metadata": {
    "id": "zGCYpWj-UccJ"
   },
   "source": [
    "#Spike animation"
   ]
  },
  {
   "cell_type": "code",
   "execution_count": null,
   "metadata": {
    "id": "gkG0rwtmY3xM"
   },
   "outputs": [],
   "source": [
    "from matplotlib.animation import FuncAnimation\n",
    "from matplotlib import rc\n",
    "\n",
    "# equivalent to rcParams['animation.html'] = 'html5'\n",
    "rc('animation', html='html5')"
   ]
  },
  {
   "cell_type": "markdown",
   "metadata": {
    "id": "c7jPnw3nwpCh"
   },
   "source": [
    "#### Simple test case animation\n",
    "\n",
    "Play around with array animation for understanding and testing (just included for programming convenience that you can quickly test something out about array animation without always animating with the \"complicated\" neural data)\n",
    "\n",
    "Click below to see the code."
   ]
  },
  {
   "cell_type": "code",
   "execution_count": null,
   "metadata": {
    "colab": {
     "base_uri": "https://localhost:8080/"
    },
    "id": "rc_Tbau-aETJ",
    "outputId": "f150cbe1-d6fb-4e78-ced6-c76001dbf47b"
   },
   "outputs": [
    {
     "name": "stdout",
     "output_type": "stream",
     "text": [
      "int64\n"
     ]
    },
    {
     "data": {
      "text/plain": [
       "Text(0.5, 1.0, 'Plot 2D array')"
      ]
     },
     "execution_count": 499,
     "metadata": {},
     "output_type": "execute_result"
    },
    {
     "data": {
      "image/png": "[encoded data removed]",
      "text/plain": [
       "<Figure size 576x432 with 1 Axes>"
      ]
     },
     "metadata": {
      "needs_background": "light"
     },
     "output_type": "display_data"
    }
   ],
   "source": [
    "X=np.zeros((2,2,3), dtype=int)\n",
    "X[0,1,1]=216\n",
    "X[0,1,0]=149\n",
    "X[0,1,2]=64\n",
    "print(X[0,1,2].dtype)\n",
    "#95D840FF\n",
    "fig = plt.figure(figsize=(8,6))\n",
    "plt.imshow(X)\n",
    "plt.title(\"Plot 2D array\")"
   ]
  },
  {
   "cell_type": "code",
   "execution_count": null,
   "metadata": {
    "colab": {
     "base_uri": "https://localhost:8080/"
    },
    "id": "fE3dha_UfHuJ",
    "outputId": "0e068289-b0fe-40f2-eacf-6ab00f8222dc"
   },
   "outputs": [
    {
     "data": {
      "image/png": "[encoded data removed]",
      "text/plain": [
       "<Figure size 432x288 with 1 Axes>"
      ]
     },
     "metadata": {
      "needs_background": "light"
     },
     "output_type": "display_data"
    }
   ],
   "source": [
    "X=np.ones((2,2,3), dtype=int)*255\n",
    "  \n",
    "fig, axes = plt.subplots()\n",
    "axes.set_axis_off()\n",
    "def animation_function(i):\n",
    "    axes.clear()\n",
    "    \n",
    "    r=random.randint(0,1)\n",
    "    if r==0:\n",
    "      X[0,1,1]=255\n",
    "      X[0,1,0]=255\n",
    "      X[0,1,2]=255\n",
    "\n",
    "\n",
    "    else:\n",
    "      X[0,1,1]=216\n",
    "      X[0,1,0]=149\n",
    "      X[0,1,2]=64\n",
    "    axes.imshow(X)\n",
    "  \n",
    "  \n",
    "ani = FuncAnimation(fig, func = animation_function,interval = 50)"
   ]
  },
  {
   "cell_type": "code",
   "execution_count": null,
   "metadata": {
    "colab": {
     "base_uri": "https://localhost:8080/"
    },
    "id": "laVjLuz7hQKe",
    "outputId": "ea61c439-36f0-4fa9-8c39-48f4773907ee"
   },
   "outputs": [
    {
     "data": {
      "text/html": [
       "<video width=\"432\" height=\"288\" controls autoplay loop>\n",
       "  <source type=\"video/mp4\" src=\"data:video/mp4;base64,AAAAHGZ0eXBNNFYgAAACAGlzb21pc28yYXZjMQAAAAhmcmVlAAAg/m1kYXQAAAKuBgX//6rcRem9\n",
       "5tlIt5Ys2CDZI+7veDI2NCAtIGNvcmUgMTUyIHIyODU0IGU5YTU5MDMgLSBILjI2NC9NUEVHLTQg\n",
       "QVZDIGNvZGVjIC0gQ29weWxlZnQgMjAwMy0yMDE3IC0gaHR0cDovL3d3dy52aWRlb2xhbi5vcmcv\n",
       "eDI2NC5odG1sIC0gb3B0aW9uczogY2FiYWM9MSByZWY9MyBkZWJsb2NrPTE6MDowIGFuYWx5c2U9\n",
       "MHgzOjB4MTEzIG1lPWhleCBzdWJtZT03IHBzeT0xIHBzeV9yZD0xLjAwOjAuMDAgbWl4ZWRfcmVm\n",
       "PTEgbWVfcmFuZ2U9MTYgY2hyb21hX21lPTEgdHJlbGxpcz0xIDh4OGRjdD0xIGNxbT0wIGRlYWR6\n",
       "b25lPTIxLDExIGZhc3RfcHNraXA9MSBjaHJvbWFfcXBfb2Zmc2V0PS0yIHRocmVhZHM9MyBsb29r\n",
       "YWhlYWRfdGhyZWFkcz0xIHNsaWNlZF90aHJlYWRzPTAgbnI9MCBkZWNpbWF0ZT0xIGludGVybGFj\n",
       "ZWQ9MCBibHVyYXlfY29tcGF0PTAgY29uc3RyYWluZWRfaW50cmE9MCBiZnJhbWVzPTMgYl9weXJh\n",
       "bWlkPTIgYl9hZGFwdD0xIGJfYmlhcz0wIGRpcmVjdD0xIHdlaWdodGI9MSBvcGVuX2dvcD0wIHdl\n",
       "aWdodHA9MiBrZXlpbnQ9MjUwIGtleWludF9taW49MjAgc2NlbmVjdXQ9NDAgaW50cmFfcmVmcmVz\n",
       "aD0wIHJjX2xvb2thaGVhZD00MCByYz1jcmYgbWJ0cmVlPTEgY3JmPTIzLjAgcWNvbXA9MC42MCBx\n",
       "cG1pbj0wIHFwbWF4PTY5IHFwc3RlcD00IGlwX3JhdGlvPTEuNDAgYXE9MToxLjAwAIAAAAnRZYiE\n",
       "ADv//vdOvwKbRZdqA5JXCvbKpCZZuVJrAfKmAAADAAARsG58mdf5xGu7EB7sUxsWyocDWI3H3ej2\n",
       "xjeEoltvmv2L28FPIv6DTzSTwVFMLMv7d88a5oo0ar7S4Kg4koxrlrX8qrYDCaIqO3nWwAACBaEM\n",
       "HERSUqWblX1FKNp/QJZzOTtSkdFLC88F5s14dvHF1bgWq0qIBfYUbpHahTHwQIb8v6w/bQ4EJGyq\n",
       "9oOCQeyIvvQhjfZFLgZth5IhT5yeBVqV7HrILQULqhSVGWoS1iWsjFFbkGGtw+9gka7k+zf8c/aB\n",
       "AsdjgUtnkFiDqRRI8KYHm4F0Doxm7pH0eTnW64MzWjYBMIXgajQNeCn/bJJIgSsG9fzQ5sPfazrs\n",
       "6UjHXyT2qObmTSRbYpsWoQeB/73K/h8u3iEJIR4Frz8ODAB9ApifaAAATO11/tbJQt03+5A1t1b6\n",
       "799wCn6UoSzRSgIO5tvPjjtTua2C+6JUAAfSLnTPUPOnWMwNRdHhMCIj5WSqN2ZL9wc1vbOhKYId\n",
       "P6hNlMn58SvkqUQ8/RrtxESH63z1MTiN/IwneLTkEgtBuwqnr5jZlw8FYVa2w64WRU+mrwsjObib\n",
       "o9WCy0P8QkGAEwBAOhHGA915/b/QLrxk+QDE6/zDRknbDNJ3yu2Sb4gs9FF/912ryT6n+HpsP/C9\n",
       "V5nfqgCcY6lz05D7s74POmtA0FZGOs/a4WXP+LPlH5PU4LdY25v35Uy7iLyuoQSE6BI9ltg4ZjKf\n",
       "u3xruj5+hbC/yEZkl32B1LcLQ35o6m4ZUtjfbYcGsVMGkNxM/x+PukZdn4HBTaK0ZlOPHXC/Sq4j\n",
       "UZnOetdBYtihm1RRLq6zTpMon99ZOqYIt/5vYTkNcRFxMWN5aN4Twfo6CL+qmNfWt1MT1XyZROzL\n",
       "+7UcO+Qgq5VRd+/9hdDpe5FoXlcWc1rAVAi6sc9/UqRi4Vj3LvAVuC1VVn4rZlE5wKEZ0IliZ9+C\n",
       "tNyb+RbCri6+IKL/a9+Dj/g8DCSLOk8jDHa51eGfTtV/OEHXIg9TTX8kAo3RMuC8FaqIzRtuc/w/\n",
       "+CuYkg5UrPW49wjCuh9OndDZVa9iJU9u8yAx2GU3orOeNDktcsavQQXn3gH5t7JPQKIep35YsUk3\n",
       "nmQGEs7+ZZUBqEH+bHHiDnXrvDKjtJkDGrPWM27fX/3tXGBfl7jC6iNIWjWtNqqD7fjcGSq+qu8F\n",
       "vaZRSiT/xzb/RQs5pgsXUUMIiA+M4MIQrCznj55itZeNYelbUfKfWjS5QdBzdjm0oz9Pxg55lzZc\n",
       "8c7sYmrZdI/uD3FSj1r1/3KQfOH9/cQhY2TBU6O7wRR9JQWyjogipAscgXD0E67LN/GXgY2kLgE+\n",
       "4yodGyRMkYQRCwjzTAbcP99cCYDLHPaV3Qa/h7vOmTtLSzyBQnE2rOwmUGMti3EXqkAfC9AyAflf\n",
       "mEVgyJ2nmv/av/mO5+WgWydGPjovs2pQLCFxs6lBX9YoM/OmrSp/iYGPTFdLlTs03j/6byUmYi7J\n",
       "FOOCYAseGxJaPyZlSkhjKmCGdg0dXgPtgo2+agS25duLWrMhWhtZPBmuI3UfGSDLfUxFwm/vIvOp\n",
       "HeNvinFmaoRB6XJ2/WOFqblmYyLNbWL5SSfZIZVxPVoXXwxwVFLrRgWBvSPOYTZ7oTp9rAsuK8Nr\n",
       "KJe2UVQy3T0QS9RMgRC9mkt/cb9aZS/kZdmk5bIgq1uv3u2lVEJ1Puyag1QPtX5e3vVYT1z1G3xy\n",
       "pXQY/RlQycETfRPk08rvsc6rL6Xxxpn6NP86lO4zso76EW+J5t1z8YtK0qV0OnmxTUG+Ytq2V4yi\n",
       "fdiEROP5eg/1i11hx5T+HqNeWwLlLZezjFOvFx+xs01ob2cWrrv1zLP9dkKayxk4RxQye2eZ4OWF\n",
       "YJ0HYaNmbWAAfzyls2MreZoJlmVY5lY8UyH+ECJPm9VOjgpjl9nBAk0jMJrtOQexH+xOA3niAQm/\n",
       "AAr4uz1sKSuN2jX01hPTY/w5OHu4HxDuNlqxclTu+7N2PhqhPmtJN3sBEGFOjpP5gZtsnbKvAjDM\n",
       "5869oN72peLm295ExMAFAJybqJ63cWEmUnhEx2ZhM/qdeVEej0tzoBmxahxTbmmMfz1OOOtgdZy3\n",
       "rBGcKgeMSfgYPKTHgsAiXDhRfD2zfXgNjCDtWE9bHkphJgfVKse08aUQqCMFX1CGeaNqQCrcr/LC\n",
       "NE8KKOvbdG14Ug1/p/FCmE26mxMSpzP6cSpwOrmWFsBp6YwjtrYg0sraDw8diNyT9nSoRiH25cNK\n",
       "mh9T9CZC21AG5Ir6bbaEcqKF3tpdjbReuveVDEFHtrKAY9gCNbMvlno7KKAd+pw8OZrZtltgtSp3\n",
       "CvEnMf6DLEHl2fbR8vHUdUd6A9YU926bk7n2gy2lceCvMs+Xw1hQ1PSB2kpn1QhFJkL47oQbwMB0\n",
       "At+iOibYFSeRYkHxoq7aEIzswdepOk/BwYbA+BSB76n6wFizgd97jpyce3W/HwtOBHjADCYq43kR\n",
       "8Oup3Cvw87BTUFe/gmHSIveahH6oBRldllHO40mooQWdEc46ClPIIm09X3d48KoJH3xQgaYzI3ur\n",
       "jbhS6MgarCktC+h3/FL9IFV+fQ7srM7uNUrTrs0q74o5WyMf1jsGE3gCaur5scsxcJKGjlyC2/Au\n",
       "fik2Q2d0ISAEaqtzediKdRvxN03+qT0Fwec8+2pHBqjN9/bjYKzWvxq6o83z8rvkTj7fGvOdcZ9H\n",
       "hpdub2U0Ej58EuUVvAXwRP55DSX6w47Dmdpko7CRKCED1gUCOM/TdSmupI2EiHNHi4/c7b6g+svf\n",
       "Vf5s1r/hN9e+FymYY18mDnEr0zktqtDe/8dWFnc0D+e+QbYtdqlpHJzg8AvP5zT5MOFMdLPn3aGz\n",
       "pd4dVlaoyPiYN6zKvxM7NmiQsqtwKCIN48Ee1+p/Gb3Pv0Ocvf7VHIqsWbqVMOXJI6jf/tF0rkzQ\n",
       "6zA6wWTuYZjM7ZZy/hEFs4QejFFjycEloDe1t8J28/fZVIULfyG+uOq5SOhLwjYPo6Q+LxiRRxRk\n",
       "tvV/kSjhDZEnN/0q62ErvdmKIc33C2Kwy3NyqC+MpmW+oNSYJjpGlyffVLhZuV6/6MmHRUFC07mA\n",
       "n0eBLGWl44/qPzNIhZ1sC2iCrYSJPEiTamzb844BxKAVLwZDFunZTILEqJ1RzQ2sdEYIH2l8/5mL\n",
       "RmTZb8qetpxEWbK89sll73PsK4C+uaREODglQyEACIhgKtZvJyq3Fl/kj/GQw+G6DaskUpnVEVUL\n",
       "ee502Jtq5P88iA7EPq6RnkJLG3/kkzVvSna3JnaDptXWAzkIBsd4AM/mezqM45k9g1fQAAADAAtw\n",
       "Ab0AAAFkQZoibEO//qmWAO50DiANBnr7lLt1RkcceQw3vwMnIi69n/kIQhjJPbil491OozoHah4L\n",
       "iJqK5dR4ozCFYHHBRoX+C6dwF0mQvs4mwOkNW7ctXLb9BXnPZSZf+qcXk9Wdppbn+gt6DuNqQJzv\n",
       "dAHUs2hpEpSk+5697OjD30L37V0oDlBODIYsyj566Tb21sl6JWnO6RrBBXowaY+JhEXnSZdv0jjd\n",
       "GX/0qn9lq7+LMPepDJBGkn2Gi9L2ouTD/nPWOEYdp5N/HaYxnWAla2fDYqm7ZN9Uyx6++vNBGMI0\n",
       "gvuOSvPcIQIHC+2hTiZmqeI3VyPdsmb/C6TBhSSygZm7jJi8jbTHjcUEckfMIWyPsCOeJXnnvehi\n",
       "MZ3kQA6k0t6NKsgx2wKQn/8AKYQPruf2HqnHOUjngIqpyINanNLbl7lsnidEG3XHztGHEjy8PZnm\n",
       "z6Z64F/pJvxPPlzZ1zCsYMTzkLAAAAA+AZ5BeQr/AVpqvR5AjFVYfZ0ABMXKNwDGeQ9vx1qjTM3k\n",
       "guFNOaQoclZWl8Us8gLMXOczh7qp0SYSjBSoPCEAAABXQZpEPCGTKYQ7//6plgCwroFT6VTF4LnC\n",
       "VAAt3CEBkE3D4M2mD4j+egzHOV/YPjcAhCtubtqgg8AANQegDv3QRE4FrhOZEFyAnrG1t1AGQNUl\n",
       "77/Mvy7iAAAAJgGeY2pCvwEWkJyPp0WBa1z3DZ4mMNO4ADNIsF5O4nTjSxJBp5xRAAAATUGaZknh\n",
       "DyZTBTw7//6plgCwroFT6VTF4LQg38TABECUkdoC23YpvNpP3uzyg1VZ9p0t7ERyxCqABIWM3q0+\n",
       "Hd1tshPGEYL2IAJ0USOjAAAAHwGehWpCvwEWkJyPp0WBa1z3DZ4mMNO4QFLUfIES7YEAAAA2QZqK\n",
       "SeEPJlMCG//+p4QBW06+xsomd4B0DzKgAss1U9v6Eq5GNcOcRC3AAAIiAEPCGqxWWCWzAAAAHUGe\n",
       "qEURPDP/AJbFT6OBo9mV7/PfEywmm5kn7GggAAAAMwGex3RCvwEWc2KCpPWc0Jd1X23+/VZdxPiu\n",
       "8SfF8PWbC5Hpdr3yqTnLaS4y7a5g4ol40AAAAAsBnslqQr8AAAMBiwAAAFxBmsxJqEFomUwU8N/+\n",
       "p4QBrkTkgHL3b8o1BaqJqEmpcm67lG2Yy2MFdSt3lkbtVicTZk6HdH3nxIGeHAEP/SalFaWVO8L0\n",
       "26/Jc/Ohxi4L1vJ6Rawbd+JwaVx58AAAABsBnutqQr8BFpCcj6dFgWtc9w2eJjDTuEAmQWYAAAA2\n",
       "QZrtSeEKUmUwIb/+p4QBW06+xsomd4B0DzKgAss1U9v6Eq5GNcOcRC3AAAIiAEPCGqxWWCWzAAAA\n",
       "PUGbDknhDomUwIb//qeEAVtOvsbKJneAc9q4RQAvBysqIC2zYpvOBccaVyg1Xadp0t7kdyxC6ABF\n",
       "WKmOxQMAAAA2QZsvSeEPJlMCG//+p4QBW06+xsomd4B0DzKgAss1U9v6Eq5GNcOcRC3AAAIiAEPC\n",
       "GqxWWCWzAAAAPkGbUEnhDyZTAh3//qmWALCugVPpVMXgtCDfxMAEQJSR2gLbdim82k/e7PKDVVn2\n",
       "nS3sRHLEKoAEhYzerFAgAAAAN0GbcUnhDyZTAh3//qmWALCugVPpVMXgtCZQBt3YFwN9gELWyXbY\n",
       "9ZkFuAAAREAIeENVissEtmAAAABBQZuTSeEPJlMFETw///6plgCwrnERCTGGBmS4iegaALgWgK4f\n",
       "EtCNOFnqZMdS46JpHKSQ4oXODKPqAA14I/ESCYEAAAAaAZ+yakK/ARaQnI+nRYFrXPcNniYw07hA\n",
       "DegAAAA3QZu3SeEPJlMCHf/+qZYAsK6BU+lUxeC0JlAG3dgXA32AQtbJdtj1mQW4AABEQAh4Q1WK\n",
       "ywS2YAAAAB1Bn9VFETwz/wCWxU+jgaPZle/z3xMsJpuZJ+xoIQAAADMBn/R0Qr8BFnNigqT1nNCX\n",
       "dV9t/v1WXcT4rvEnxfD1mwuR6Xa98qk5y2kuMu2uYOKJeNAAAAALAZ/2akK/AAADAYsAAABWQZv7\n",
       "SahBaJlMCHf//qmWALC1NS0tImPwih+YZHt+MHsekmdtS8VVEQL4GeQyXLAFpqxkFbSj2ETB0NBM\n",
       "bA9REAKrinE40r1H7Nx9Hly3SiBpvMOxQIEAAAAdQZ4ZRREsM/8AlsVPo4Gj2ZXv898TLCabmSfs\n",
       "aCAAAAAbAZ44dEK/ARbwYzyRt6eAz6sPNphLSTVEILuBAAAACwGeOmpCvwAAAwGLAAAAOkGaPUmo\n",
       "QWyZTBRMO//+qZYAsLU1LS0iY/CKH5iPtoI8ALgb7AIWtku2x6zILcAAAiIAQ8IarFZYJbMAAAAd\n",
       "AZ5cakK/ARbXcqMYxOvOAf5lNwD9cz2LMCSLgcEAAAA/QZpASeEKUmUwIb/+p4QBW06+xsomd4Bz\n",
       "2rhFAC8HKyogLbNim84FxxpXKDVdp2nS3uR3LELoAEVZfVjMEtmAAAAAHEGefkU0TC//AM2F/rsU\n",
       "cRuhb6z6FxZNj2PtawsAAAALAZ6fakK/AAADAYsAAAA5QZqBSahBaJlMCG///qeEAVtf984/nbmu\n",
       "qS+1wZUAFlmqnt/QlXIxrhziIW4AABEQAh4Q1WKywS2YAAAAP0Gao0nhClJlMFESw3/+p4QBW06+\n",
       "xsomd4Bz2rhFAC8HKyogLbNim84FxxpXKDVdp2nS3uR3LELoAEVYqY7FAwAAABoBnsJqQr8BFpCc\n",
       "j6dFgWtc9w2eJjDTuEAN6AAAADdBmsRJ4Q6JlMCHf/6plgCwroFT6VTF4LQmUAbd2BcDfYBC1sl2\n",
       "2PWZBbgAAERACHhDVYrLBLZhAAAAPkGa5UnhDyZTAh3//qmWALCugVPpVMXgtCDfxMAEQJSR2gLb\n",
       "dim82k/e7PKDVVn2nS3sRHLEKoAEhYzerFAhAAAAN0GbCEnhDyZTAh3//qmWALCugVPpVMXgtCZQ\n",
       "Bt3YFwN9gELWyXbY9ZkFuAAAREAIeENVissEtmEAAAAcQZ8mRRE8L/8AzYX+uxRxG6FvrPoXFk2P\n",
       "Y+1rCwAAAAsBn0dqQr8AAAMBiwAAAExBm0xJqEFomUwIb//+p4QBW1/3zj+dua6pL7QyhV4qHS/h\n",
       "15s1cFNGjpV4WRruAMDxCKT9JZM0R8rtQlVyj5Wyw2D51ab4ieb4iQTAAAAAHUGfakURLDP/AJbF\n",
       "T6OBo9mV7/PfEywmm5kn7GghAAAAGwGfiXRCvwEWc2KCpPWc0Jd1X23+/VZdxPQC7gAAAAsBn4tq\n",
       "Qr8AAAMBiwAAADlBm41JqEFsmUwIb//+p4QBW1/3zj+dua6pL7XBlQAWWaqe39CVcjGuHOIhbgAA\n",
       "ERACHhDVYrLBLZkAAAA/QZuvSeEKUmUwUVLDf/6nhAFbTr7GyiZ3gHPauEUALwcrKiAts2KbzgXH\n",
       "GlcoNV2nadLe5HcsQugARVipjsUDAAAAGgGfzmpCvwEWkJyPp0WBa1z3DZ4mMNO4QA3pAAAAN0Gb\n",
       "0EnhDomUwId//qmWALCugVPpVMXgtCZQBt3YFwN9gELWyXbY9ZkFuAAAREAIeENVissEtmAAAAA9\n",
       "QZvzSeEPJlMCG//+p4QBW06+xsomd4Bz2rhFAC8HKyogLbNim84FxxpXKDVdp2nS3uR3LELoAEVY\n",
       "qY7FAgAAABxBnhFFETwv/wDNhf67FHEboW+s+hcWTY9j7WsLAAAACwGeMmpCvwAAAwGLAAAAOUGa\n",
       "NEmoQWiZTAhv//6nhAFbX/fOP525rqkvtcGVABZZqp7f0JVyMa4c4iFuAAAREAIeENVissEtmAAA\n",
       "AD1BmlVJ4QpSZTAhv/6nhAFbTr7GyiZ3gHPauEUALwcrKiAts2KbzgXHGlcoNV2nadLe5HcsQugA\n",
       "RVipjsUDAAAAN0GadknhDomUwId//qmWALCugVPpVMXgtCZQBt3YFwN9gELWyXbY9ZkFuAAAREAI\n",
       "eENVissEtmAAAAA+QZqXSeEPJlMCHf/+qZYAsK6BU+lUxeC0IN/EwARAlJHaAtt2KbzaT97s8oNV\n",
       "WfadLexEcsQqgASFjN6sUCEAAAA3QZq7SeEPJlMCHf/+qZYAsK6BU+lUxeC0JlAG3dgXA32AQtbJ\n",
       "dtj1mQW4AABEQAh4Q1WKywS2YQAAAB1BntlFETwz/wCWxU+jgaPZle/z3xMsJpuZJ+xoIAAAADAB\n",
       "nvh0Qr8BFnNigqT1nNCXdV9t/v1WXcT4bvEnxfD1mwuR6Xa98qk5y2kuMxtWNbEAAAALAZ76akK/\n",
       "AAADAYsAAABMQZr+SahBaJlMCG///qeEAVtf984/nbmuqS+0MoVeKh0v4debNXBTRo6VeFka7gDA\n",
       "8Qik/SWTNEfK7UJVco+VssNg+dWm+Inm+IkEwQAAAB5BnxxFESwv/wDNqZDRvazLPkvb57E6rNOC\n",
       "V/QMo0EAAAAwAZ89akK/ARbXcqMYxOvOAf5lNwD9cz2LMTxsonxfD1mwuR6Xa98qk5y2kuMxtWNb\n",
       "AAAAOEGbIEmoQWyZTBRMN//+p4QBW06+xsomd4B0DzKgAss1U9v6Eq5GNcOcRC3AAAIiAEPCGqxW\n",
       "WCWzAAAAGgGfX2pCvwEWkJyPp0WBa1z3DZ4mMNO4QA3pAAAAPUGbQUnhClJlMCG//qeEAVtOvsbK\n",
       "JneAc9q4RQAvBysqIC2zYpvOBccaVyg1Xadp0t7kdyxC6ABFWKmOxQIAAAA3QZtiSeEOiZTAh3/+\n",
       "qZYAsK6BU+lUxeC0JlAG3dgXA32AQtbJdtj1mQW4AABEQAh4Q1WKywS2YQAAAD5Bm4NJ4Q8mUwId\n",
       "//6plgCwroFT6VTF4LQg38TABECUkdoC23YpvNpP3uzyg1VZ9p0t7ERyxCqABIWM3qxQIAAAADZB\n",
       "m6dJ4Q8mUwIb//6nhAFbTr7GyiZ3gHQPMqACyzVT2/oSrkY1w5xELcAAAiIAQ8IarFZYJbMAAAAd\n",
       "QZ/FRRE8M/8AlsVPo4Gj2ZXv898TLCabmSfsaCEAAAAwAZ/kdEK/ARZzYoKk9ZzQl3Vfbf79Vl3E\n",
       "+G7xJ8Xw9ZsLkel2vfKpOctpLjMbVjWxAAAACwGf5mpCvwAAAwGLAAAATEGb6UmoQWiZTBTw3/6n\n",
       "hAFbX/fOP525rqkvtDKFXiodL+HXmzVwU0aOlXhZGu4AwPEIpP0lkzRHyu1CVXKPlbLDYPnVpviJ\n",
       "5viJBMAAAAAcAZ4IakK/ARbXcqMYxOvOAf5lNwD9cz2LMOg3oAAAADdBmgpJ4QpSZTAh3/6plgCw\n",
       "roFT6VTF4LQmUAbd2BcDfYBC1sl22PWZBbgAAERACHhDVYrLBLZhAAAAPUGaLUnhDomUwIb//qeE\n",
       "AVtOvsbKJneAc9q4RQAvBysqIC2zYpvOBccaVyg1Xadp0t7kdyxC6ABFWKmOxQIAAAAcQZ5LRRE8\n",
       "L/8AzYX+uxRxG6FvrPoXFk2PY+1rCwAAAAsBnmxqQr8AAAMBiwAAADlBmm5JqEFomUwIb//+p4QB\n",
       "W1/3zj+dua6pL7XBlQAWWaqe39CVcjGuHOIhbgAAERACHhDVYrLBLZkAAAA9QZqPSeEKUmUwIb/+\n",
       "p4QBW06+xsomd4Bz2rhFAC8HKyogLbNim84FxxpXKDVdp2nS3uR3LELoAEVYqY7FAwAAADZBmrBJ\n",
       "4Q6JlMCG//6nhAFbTr7GyiZ3gHQPMqACyzVT2/oSrkY1w5xELcAAAiIAQ8IarFZYJbMAAAA9QZrR\n",
       "SeEPJlMCG//+p4QBW06+xsomd4Bz2rhFAC8HKyogLbNim84FxxpXKDVdp2nS3uR3LELoAEVYqY7F\n",
       "AgAAADZBmvJJ4Q8mUwIb//6nhAFbTr7GyiZ3gHQPMqACyzVT2/oSrkY1w5xELcAAAiIAQ8IarFZY\n",
       "JbMAAAA9QZsTSeEPJlMCG//+p4QBW06+xsomd4Bz2rhFAC8HKyogLbNim84FxxpXKDVdp2nS3uR3\n",
       "LELoAEVYqY7FAgAAADdBmzRJ4Q8mUwId//6plgCwroFT6VTF4LQmUAbd2BcDfYBC1sl22PWZBbgA\n",
       "AERACHhDVYrLBLZgAAAAQEGbVknhDyZTBRE8O//+qZYAsK6BU+lUxeC0IN/EwARAlJHaAtt2Kbza\n",
       "T97s8oNVWfadLexEcsQqgASFjN6sUCEAAAAaAZ91akK/ARaQnI+nRYFrXPcNniYw07hADegAAAA2\n",
       "QZt6SeEPJlMCG//+p4QBW06+xsomd4B0DzKgAss1U9v6Eq5GNcOcRC3AAAIiAEPCGqxWWCWzAAAA\n",
       "HUGfmEURPDP/AJbFT6OBo9mV7/PfEywmm5kn7GghAAAAMAGft3RCvwEWc2KCpPWc0Jd1X23+/VZd\n",
       "xPhu8SfF8PWbC5Hpdr3yqTnLaS4zG1Y1sAAAAAsBn7lqQr8AAAMBiwAAAExBm7tJqEFomUwIb//+\n",
       "p4QBW1/3zj+dua6pL7QyhV4qHS/h15s1cFNGjpV4WRruAMDxCKT9JZM0R8rtQlVyj5Wyw2D51ab4\n",
       "ieb4iQTAAAAANkGb3EnhClJlMCG//qeEAVtOvsbKJneAdA8yoALLNVPb+hKuRjXDnEQtwAACIgBD\n",
       "whqsVlglswAAAD1Bm/1J4Q6JlMCG//6nhAFbTr7GyiZ3gHPauEUALwcrKiAts2KbzgXHGlcoNV2n\n",
       "adLe5HcsQugARVipjsUDAAAANkGaHknhDyZTAhv//qeEAVtOvsbKJneAdA8yoALLNVPb+hKuRjXD\n",
       "nEQtwAACIgBDwhqsVlglswAAAD9BmiBJ4Q8mUwURPDf//qeEAVtOvsbKJneAc9q4RQAvBysqIC2z\n",
       "YpvOBccaVyg1Xadp0t7kdyxC6ABFWKmOxQIAAAAaAZ5fakK/ARaQnI+nRYFrXPcNniYw07hADekA\n",
       "AAA1QZpDSeEPJlMCFf/+OEAUWdsxfORXXyW+62k91BktFFXzaiAp8YiDnAAAUYAUoKw+xUOxQIAA\n",
       "AAAcQZ5hRRE8L/8AzYX+uxRxG6FvrPoXFk2PY+1rCwAAAAsBnoJqQr8AAAMBiwAABxZtb292AAAA\n",
       "bG12aGQAAAAAAAAAAAAAAAAAAAPoAAATiAABAAABAAAAAAAAAAAAAAAAAQAAAAAAAAAAAAAAAAAA\n",
       "AAEAAAAAAAAAAAAAAAAAAEAAAAAAAAAAAAAAAAAAAAAAAAAAAAAAAAAAAAAAAAACAAAGQHRyYWsA\n",
       "AABcdGtoZAAAAAMAAAAAAAAAAAAAAAEAAAAAAAATiAAAAAAAAAAAAAAAAAAAAAAAAQAAAAAAAAAA\n",
       "AAAAAAAAAAEAAAAAAAAAAAAAAAAAAEAAAAABsAAAASAAAAAAACRlZHRzAAAAHGVsc3QAAAAAAAAA\n",
       "AQAAE4gAAAQAAAEAAAAABbhtZGlhAAAAIG1kaGQAAAAAAAAAAAAAAAAAACgAAADIAFXEAAAAAAAt\n",
       "aGRscgAAAAAAAAAAdmlkZQAAAAAAAAAAAAAAAFZpZGVvSGFuZGxlcgAAAAVjbWluZgAAABR2bWhk\n",
       "AAAAAQAAAAAAAAAAAAAAJGRpbmYAAAAcZHJlZgAAAAAAAAABAAAADHVybCAAAAABAAAFI3N0YmwA\n",
       "AACzc3RzZAAAAAAAAAABAAAAo2F2YzEAAAAAAAAAAQAAAAAAAAAAAAAAAAAAAAABsAEgAEgAAABI\n",
       "AAAAAAAAAAEAAAAAAAAAAAAAAAAAAAAAAAAAAAAAAAAAAAAAAAAAAAAY//8AAAAxYXZjQwFkABX/\n",
       "4QAYZ2QAFazZQbCWhAAAAwAEAAADAKA8WLZYAQAGaOvjyyLAAAAAHHV1aWRraEDyXyRPxbo5pRvP\n",
       "AyPzAAAAAAAAABhzdHRzAAAAAAAAAAEAAABkAAACAAAAABRzdHNzAAAAAAAAAAEAAAABAAACaGN0\n",
       "dHMAAAAAAAAASwAAAAEAAAQAAAAAAQAABgAAAAABAAACAAAAAAEAAAYAAAAAAQAAAgAAAAABAAAG\n",
       "AAAAAAEAAAIAAAAAAQAACgAAAAABAAAEAAAAAAEAAAAAAAAAAQAAAgAAAAABAAAGAAAAAAEAAAIA\n",
       "AAAABQAABAAAAAABAAAGAAAAAAEAAAIAAAAAAQAACgAAAAABAAAEAAAAAAEAAAAAAAAAAQAAAgAA\n",
       "AAABAAAKAAAAAAEAAAQAAAAAAQAAAAAAAAABAAACAAAAAAEAAAYAAAAAAQAAAgAAAAABAAAIAAAA\n",
       "AAIAAAIAAAAAAQAABAAAAAABAAAGAAAAAAEAAAIAAAAAAgAABAAAAAABAAAIAAAAAAIAAAIAAAAA\n",
       "AQAACgAAAAABAAAEAAAAAAEAAAAAAAAAAQAAAgAAAAABAAAEAAAAAAEAAAYAAAAAAQAAAgAAAAAB\n",
       "AAAEAAAAAAEAAAgAAAAAAgAAAgAAAAAEAAAEAAAAAAEAAAoAAAAAAQAABAAAAAABAAAAAAAAAAEA\n",
       "AAIAAAAAAQAACAAAAAACAAACAAAAAAEAAAYAAAAAAQAAAgAAAAADAAAEAAAAAAEAAAoAAAAAAQAA\n",
       "BAAAAAABAAAAAAAAAAEAAAIAAAAAAQAABgAAAAABAAACAAAAAAEAAAQAAAAAAQAACAAAAAACAAAC\n",
       "AAAAAAcAAAQAAAAAAQAABgAAAAABAAACAAAAAAEAAAoAAAAAAQAABAAAAAABAAAAAAAAAAEAAAIA\n",
       "AAAABAAABAAAAAABAAAGAAAAAAEAAAIAAAAAAQAACAAAAAACAAACAAAAABxzdHNjAAAAAAAAAAEA\n",
       "AAABAAAAZAAAAAEAAAGkc3RzegAAAAAAAAAAAAAAZAAADIcAAAFoAAAAQgAAAFsAAAAqAAAAUQAA\n",
       "ACMAAAA6AAAAIQAAADcAAAAPAAAAYAAAAB8AAAA6AAAAQQAAADoAAABCAAAAOwAAAEUAAAAeAAAA\n",
       "OwAAACEAAAA3AAAADwAAAFoAAAAhAAAAHwAAAA8AAAA+AAAAIQAAAEMAAAAgAAAADwAAAD0AAABD\n",
       "AAAAHgAAADsAAABCAAAAOwAAACAAAAAPAAAAUAAAACEAAAAfAAAADwAAAD0AAABDAAAAHgAAADsA\n",
       "AABBAAAAIAAAAA8AAAA9AAAAQQAAADsAAABCAAAAOwAAACEAAAA0AAAADwAAAFAAAAAiAAAANAAA\n",
       "ADwAAAAeAAAAQQAAADsAAABCAAAAOgAAACEAAAA0AAAADwAAAFAAAAAgAAAAOwAAAEEAAAAgAAAA\n",
       "DwAAAD0AAABBAAAAOgAAAEEAAAA6AAAAQQAAADsAAABEAAAAHgAAADoAAAAhAAAANAAAAA8AAABQ\n",
       "AAAAOgAAAEEAAAA6AAAAQwAAAB4AAAA5AAAAIAAAAA8AAAAUc3RjbwAAAAAAAAABAAAALAAAAGJ1\n",
       "ZHRhAAAAWm1ldGEAAAAAAAAAIWhkbHIAAAAAAAAAAG1kaXJhcHBsAAAAAAAAAAAAAAAALWlsc3QA\n",
       "AAAlqXRvbwAAAB1kYXRhAAAAAQAAAABMYXZmNTcuODMuMTAw\n",
       "\">\n",
       "  Your browser does not support the video tag.\n",
       "</video>"
      ],
      "text/plain": [
       "<matplotlib.animation.FuncAnimation at 0x7f6b14fd70d0>"
      ]
     },
     "execution_count": 501,
     "metadata": {},
     "output_type": "execute_result"
    }
   ],
   "source": [
    "ani"
   ]
  },
  {
   "cell_type": "markdown",
   "metadata": {
    "id": "EGXhwTdaJ6dm"
   },
   "source": [
    "##Spike Fireflys 20 Animation"
   ]
  },
  {
   "cell_type": "code",
   "execution_count": null,
   "metadata": {
    "id": "yhJPewe6mtyD"
   },
   "outputs": [],
   "source": [
    "#write spike end times in form of different lengths numpy arrays into one list with each entry the end of spikes of one oscillator\n",
    "all_spike_end_times=[]\n",
    "for i in range(20):\n",
    "  all_spike_end_times.append(time[get_spikes(spike_data[:,i],rise=False)])\n",
    "##this code cell is not used later"
   ]
  },
  {
   "cell_type": "code",
   "execution_count": null,
   "metadata": {
    "colab": {
     "base_uri": "https://localhost:8080/"
    },
    "id": "9ooC1iVfrAM9",
    "outputId": "e75e173b-9394-4311-866f-d015f69c9786"
   },
   "outputs": [
    {
     "data": {
      "text/plain": [
       "(20, 1801)"
      ]
     },
     "execution_count": 503,
     "metadata": {},
     "output_type": "execute_result"
    }
   ],
   "source": [
    "#set interval time in seconds (this is how long it will last until the animation renders the next image)\n",
    "interval_in_s=0.05\n",
    "#create spike data array for the animation\n",
    "spike_ani_array=np.zeros((20,int(90/interval_in_s)+1))\n",
    "spikes=np.zeros((20,int(90/interval_in_s)+1))\n",
    "spike_ani_array.shape"
   ]
  },
  {
   "cell_type": "code",
   "execution_count": null,
   "metadata": {
    "id": "4-gHNooccI_g"
   },
   "outputs": [],
   "source": [
    "'''\n",
    "the concept is to have an array of length n*interval+1=simulation time in LTSpice(currently 90s => 90s/0.05s=1800 + 1)\n",
    "and then to map each spike to the closest index (e.g. a spike at time 0.051 seconds would be mapped to index 1 corresponding to 0.05s)\n",
    "Hence we went from a not equidistant time array from our LTSpice data to an equidistant array necessary for animation in python since the interval\n",
    "time has to be constant for animation. To ensure visibility of the spike also the next two indexes of the array a set to 1 (so that the spike is not\n",
    "just a 50ms blink). Then the following array index is set to -1 so that the program can know when to stop displaying the spike.\n",
    "'''\n",
    "for i in range(number_of_oscillators):\n",
    "  for j in range(len(all_spike_start_times[i])):\n",
    "    index=int(np.round(all_spike_start_times[i][j]/0.05))\n",
    "    spike_ani_array[i,index]=1\n",
    "  for n in range(spike_ani_array.shape[1]):\n",
    "    if spike_ani_array[i,n]==1:\n",
    "      spikes[i,n]=1\n",
    "      try:\n",
    "         spikes[i,n+1]=1\n",
    "      except:\n",
    "        pass\n",
    "      try:\n",
    "         spikes[i,n+2]=1\n",
    "      except:\n",
    "        pass\n",
    "      try:\n",
    "         spikes[i,n+3]=-1\n",
    "      except:\n",
    "        pass\n",
    "  "
   ]
  },
  {
   "cell_type": "code",
   "execution_count": null,
   "metadata": {
    "colab": {
     "base_uri": "https://localhost:8080/",
     "height": 248
    },
    "id": "u_FIuRrpsCkz",
    "outputId": "2394468e-0b35-41a8-8739-296debe09fb3"
   },
   "outputs": [
    {
     "data": {
      "image/png": "[encoded data removed]",
      "text/plain": [
       "<Figure size 432x288 with 1 Axes>"
      ]
     },
     "metadata": {},
     "output_type": "display_data"
    }
   ],
   "source": [
    "spike_plt_arr= np.ones((4,5,3), dtype=int)*255\n",
    "fig, axes = plt.subplots()\n",
    "  \n",
    "def spike_animation(i):\n",
    "    axes.clear()\n",
    "    axes.tick_params(\n",
    "                left=False,\n",
    "                bottom=False,\n",
    "                labelleft=False,\n",
    "                labelbottom=False)\n",
    "\n",
    "    for j in range(20):\n",
    "\n",
    "      if spikes[j,i]==-1:\n",
    "        spike_plt_arr[j//5,j%5,1]=255\n",
    "        spike_plt_arr[j//5,j%5,0]=255\n",
    "        spike_plt_arr[j//5,j%5,2]=255\n",
    "\n",
    "\n",
    "      elif spikes[j,i]==1:\n",
    "        spike_plt_arr[j//5,j%5,1]=216\n",
    "        spike_plt_arr[j//5,j%5,0]=149\n",
    "        spike_plt_arr[j//5,j%5,2]=64\n",
    "    axes.imshow(spike_plt_arr)\n",
    "  \n",
    "playback_speed=0.5\n",
    "spike_animation = FuncAnimation(fig, func = spike_animation,frames= int(spikes.shape[1]), interval = 1000*interval_in_s/playback_speed)"
   ]
  },
  {
   "cell_type": "code",
   "execution_count": null,
   "metadata": {
    "id": "7uTtnrjXLFs6"
   },
   "outputs": [],
   "source": [
    "#uncomment line below to create animation -> takes some minutes\n",
    "#spike_animation"
   ]
  },
  {
   "cell_type": "markdown",
   "metadata": {
    "id": "6_ly0H3uTefH"
   },
   "source": [
    "# Power law fitting"
   ]
  },
  {
   "cell_type": "markdown",
   "metadata": {
    "id": "_SDClnH-ULAj"
   },
   "source": [
    "The spatial pattern of active electrodes on the multielectrode array during one time bin $Δ$t was called a frame and a\n",
    "sequence of consecutively active frames that was preceded by a\n",
    "blank frame and ended by a blank frame was called an avalanche.\n",
    "\n",
    "This is an excerpt from the paper \"Neuronal Avalanches in Neocortical Circuits\" by John M. Beggs and Dietmar Plenz published in The Journal of Neuroscience, December 3, 2003. In our case the active electrodes corresponds to active spiking oscillators and the multielectrode array correponds to our oscillators circuit"
   ]
  },
  {
   "cell_type": "code",
   "execution_count": null,
   "metadata": {
    "colab": {
     "base_uri": "https://localhost:8080/"
    },
    "id": "ygf9lmjLXQJw",
    "outputId": "69f34b10-cca3-48e6-9284-eb8cd59e63c2"
   },
   "outputs": [
    {
     "data": {
      "text/plain": [
       "30001"
      ]
     },
     "execution_count": 41,
     "metadata": {},
     "output_type": "execute_result"
    }
   ],
   "source": [
    "#set frame duration -> in the paper this ranged from 1 to 16ms\n",
    "frame_duration=0.003 #50ms\n",
    "frames = np.linspace(0,90,int(90/frame_duration)+1)\n",
    "len(frames)"
   ]
  },
  {
   "cell_type": "code",
   "execution_count": null,
   "metadata": {
    "id": "ILZi_WewYu7X"
   },
   "outputs": [],
   "source": [
    "#test the binning function\n",
    "#np.digitize(all_spike_start_times[0],frames)"
   ]
  },
  {
   "cell_type": "code",
   "execution_count": null,
   "metadata": {
    "id": "vkzhrXtAbYca"
   },
   "outputs": [],
   "source": [
    "spiking_neurons_per_frame=np.zeros(len(frames))\n",
    "for i in range(len(all_spike_start_times)):\n",
    "  for j in np.digitize(all_spike_start_times[i],frames):\n",
    "    spiking_neurons_per_frame[j-1]+=1\n"
   ]
  },
  {
   "cell_type": "code",
   "execution_count": null,
   "metadata": {
    "id": "YXc885kYcfP0"
   },
   "outputs": [],
   "source": [
    "#spiking_neurons_per_frame[:30]"
   ]
  },
  {
   "cell_type": "markdown",
   "metadata": {
    "id": "ZNbbKyzrTveH"
   },
   "source": [
    "Create avalanche sizes from frames computed above and according to the definition given at the beginning of the section"
   ]
  },
  {
   "cell_type": "code",
   "execution_count": null,
   "metadata": {
    "id": "YrhdXuFVdGE2"
   },
   "outputs": [],
   "source": [
    "avalanche_sizes=[]\n",
    "curr_avalanche=False\n",
    "for elem in spiking_neurons_per_frame:\n",
    "  if elem>0:\n",
    "    if curr_avalanche==False:\n",
    "      avalanche_sizes.append(elem)\n",
    "      curr_avalanche=True\n",
    "    else:\n",
    "      avalanche_sizes[-1]+=elem\n",
    "    \n",
    "\n",
    "  else:\n",
    "    curr_avalanche=False\n",
    "\n"
   ]
  },
  {
   "cell_type": "code",
   "execution_count": null,
   "metadata": {
    "colab": {
     "base_uri": "https://localhost:8080/"
    },
    "id": "wvP-vprBePm9",
    "outputId": "95698ad8-2e15-4ddf-a26c-ce318ce10b00"
   },
   "outputs": [
    {
     "data": {
      "text/plain": [
       "742"
      ]
     },
     "execution_count": 44,
     "metadata": {},
     "output_type": "execute_result"
    }
   ],
   "source": [
    "len(avalanche_sizes)"
   ]
  },
  {
   "cell_type": "markdown",
   "metadata": {
    "id": "yyjEBXOJVfWJ"
   },
   "source": [
    "Finally, the power law fitting and comparision to other fitting modalities"
   ]
  },
  {
   "cell_type": "code",
   "execution_count": null,
   "metadata": {
    "colab": {
     "base_uri": "https://localhost:8080/",
     "height": 368
    },
    "id": "2xTeZ7EheXT3",
    "outputId": "6c8604b4-88ea-457b-a5b0-e8235863a8e0"
   },
   "outputs": [
    {
     "name": "stdout",
     "output_type": "stream",
     "text": [
      "Calculating best minimal value for power law fit\n",
      "xmin progress: 00%\r",
      "xmin progress: 06%\r",
      "xmin progress: 13%\r",
      "xmin progress: 20%\r",
      "xmin progress: 26%\r",
      "xmin progress: 33%\r",
      "xmin progress: 40%\r",
      "xmin progress: 46%\r",
      "xmin progress: 53%\r",
      "xmin progress: 60%\r",
      "xmin progress: 66%\r",
      "xmin progress: 73%\r",
      "xmin progress: 80%\r",
      "xmin progress: 86%\r",
      "xmin progress: 93%\r",
      "2.205026820127037\n",
      "2.0\n",
      "R: -0.41844972780337786, p: 0.6756183351520959\n"
     ]
    },
    {
     "data": {
      "image/png": "[encoded data removed]",
      "text/plain": [
       "<Figure size 432x288 with 1 Axes>"
      ]
     },
     "metadata": {
      "needs_background": "light"
     },
     "output_type": "display_data"
    }
   ],
   "source": [
    "import powerlaw\n",
    "\n",
    "results = powerlaw.Fit(avalanche_sizes, discrete=True)\n",
    "print(results.power_law.alpha)\n",
    "print(results.power_law.xmin)\n",
    "R, p = results.distribution_compare('power_law', 'exponential', normalized_ratio=True)#'truncated_power_law', 'lognormal'\n",
    "print(f\"R: {R}, p: {p}\")\n",
    "'''\n",
    "R is the loglikelihood ratio between the two candidate distributions. This number will be positive\n",
    "if the data is more likely in the first distribution, and negative if the data is more likely in the second\n",
    "distribution. The significance value for that direction is p. The normalized_ratio option normalizes R\n",
    "by its standard deviation, R/(σ√n). The normalized ratio is what is directly used to calculate p.\n",
    "The exponential distribution is the absolute minimum alternative candidate for evaluating the heavy-\n",
    "tailedness of the distribution. The reason is definitional: the typical quantitative definition of a ”heavy-\n",
    "tail” is that it is not exponentially bounded. Thus if a power law is not a better fit than an\n",
    "exponential distribution (as in the above example) there is scarce ground for considering the distribution\n",
    "to be heavy-tailed at all, let alone a power law.\n",
    "However, the exponential distribution is, again, only the minimum alternative candidate distribu-\n",
    "tion to consider when describing a probability distribution.\n",
    "'''\n",
    "powerlaw.plot_pdf(avalanche_sizes, color='b', label=f'R: {R:.1f}, $Δ$t: {1000*frame_duration}')\n",
    "plt.legend()\n",
    "plt.xlabel('avalanche sizes')\n",
    "plt.ylabel('probability distribution')\n",
    "plt.title('20 all-to-all connected Oscillators over 90s with 10k coupling resistance')\n",
    "plt.savefig(f'outputs/fireflies20_powerlaw_10k_{1000*frame_duration}ms.png')"
   ]
  },
  {
   "cell_type": "code",
   "execution_count": null,
   "metadata": {
    "colab": {
     "base_uri": "https://localhost:8080/",
     "height": 299
    },
    "id": "7B46PZuymc_x",
    "outputId": "e7adc767-787f-4d19-ef50-0c9cddb7de78"
   },
   "outputs": [
    {
     "data": {
      "image/png": "[encoded data removed]",
      "text/plain": [
       "<Figure size 432x288 with 1 Axes>"
      ]
     },
     "metadata": {
      "needs_background": "light"
     },
     "output_type": "display_data"
    }
   ],
   "source": [
    "powerlaw.plot_ccdf(avalanche_sizes, color='r', label=f'R: {R:.1f}, $Δ$t: {1000*frame_duration}')\n",
    "plt.legend()\n",
    "plt.xlabel('avalanche sizes')\n",
    "plt.ylabel('ccdf')\n",
    "plt.title('20 all-to-all connected Oscillators over 90s with 10k coupling resistance')\n",
    "plt.savefig(f'outputs/fireflies20_ccdf_10k_{1000*frame_duration}ms.png')"
   ]
  },
  {
   "cell_type": "code",
   "execution_count": null,
   "metadata": {
    "colab": {
     "base_uri": "https://localhost:8080/",
     "height": 1000
    },
    "id": "AA97Qj85sHe1",
    "outputId": "b598d155-e858-4e6c-bdd1-d2abacb48126"
   },
   "outputs": [
    {
     "name": "stdout",
     "output_type": "stream",
     "text": [
      "Calculating best minimal value for power law fit\n",
      "xmin progress: 00%\r",
      "xmin progress: 33%\r",
      "xmin progress: 66%\r",
      "5.581233650196624\n",
      "3.0\n",
      "R: -0.9980001360853863, p: 0.3182792926541742\n",
      "Calculating best minimal value for power law fit\n",
      "4.3860157025452216\n",
      "2.0\n",
      "R: -4.007732494867051, p: 6.130450091579759e-05\n",
      "Calculating best minimal value for power law fit\n",
      "2.4179116279012822\n",
      "1.0\n",
      "R: -36.04904998471097, p: 1.427213747158684e-284\n",
      "Calculating best minimal value for power law fit\n",
      "2.4389399783150725\n",
      "1.0\n",
      "R: -60.082067337523455, p: 0.0\n"
     ]
    },
    {
     "data": {
      "image/png": "[encoded data removed]",
      "text/plain": [
       "<Figure size 432x288 with 1 Axes>"
      ]
     },
     "metadata": {
      "needs_background": "light"
     },
     "output_type": "display_data"
    },
    {
     "data": {
      "image/png": "[encoded data removed]",
      "text/plain": [
       "<Figure size 432x288 with 1 Axes>"
      ]
     },
     "metadata": {
      "needs_background": "light"
     },
     "output_type": "display_data"
    },
    {
     "data": {
      "image/png": "[encoded data removed]",
      "text/plain": [
       "<Figure size 432x288 with 1 Axes>"
      ]
     },
     "metadata": {
      "needs_background": "light"
     },
     "output_type": "display_data"
    },
    {
     "data": {
      "image/png": "[encoded data removed]",
      "text/plain": [
       "<Figure size 432x288 with 1 Axes>"
      ]
     },
     "metadata": {
      "needs_background": "light"
     },
     "output_type": "display_data"
    }
   ],
   "source": [
    "#set frame duration -> in the paper this ranged from 1 to 16ms\n",
    "frame_duration=[0.003,0.001,0.0005,0.0001]#50ms\n",
    "for f in frame_duration:\n",
    "\n",
    "  frames = np.linspace(0,90,int(90/f)+1)\n",
    "\n",
    "  spiking_neurons_per_frame=np.zeros(len(frames))\n",
    "  for i in range(len(all_spike_start_times)):\n",
    "    for j in np.digitize(all_spike_start_times[i],frames):\n",
    "      spiking_neurons_per_frame[j-1]+=1\n",
    "\n",
    "  avalanche_sizes=[]\n",
    "  curr_avalanche=False\n",
    "  for elem in spiking_neurons_per_frame:\n",
    "    if elem>0:\n",
    "      if curr_avalanche==False:\n",
    "        avalanche_sizes.append(elem)\n",
    "        curr_avalanche=True\n",
    "      else:\n",
    "        avalanche_sizes[-1]+=elem\n",
    "    \n",
    "\n",
    "    else:\n",
    "      curr_avalanche=False\n",
    "\n",
    "  import powerlaw\n",
    "\n",
    "  results = powerlaw.Fit(avalanche_sizes, discrete=True)\n",
    "  print(results.power_law.alpha)\n",
    "  print(results.power_law.xmin)\n",
    "  R, p = results.distribution_compare('power_law', 'exponential', normalized_ratio=True)#'truncated_power_law', 'lognormal'\n",
    "  print(f\"R: {R}, p: {p}\")\n",
    "\n",
    "  plt.figure()\n",
    "  powerlaw.plot_ccdf(avalanche_sizes, color='r', label=f'R: {R:.1f}, $Δ$t: {1000*f}')\n",
    "  plt.legend()\n",
    "  plt.xlabel('avalanche sizes')\n",
    "  plt.ylabel('ccdf')\n",
    "  plt.title('20 all-to-all connected Oscillators over 90s with 0.001k coupling resistance')\n",
    "  plt.savefig(f'outputs/fireflies20_ccdf_1_{1000*f}ms.png')"
   ]
  }
 ],
 "metadata": {
  "colab": {
   "collapsed_sections": [
    "7d1kfAx4QL17",
    "X1sr1MCotOLd",
    "hTvXbjXIucnl",
    "c7jPnw3nwpCh"
   ],
   "name": "Fireflies20.ipynb",
   "provenance": [],
   "toc_visible": true
  },
  "kernelspec": {
   "display_name": "Python 3 (ipykernel)",
   "language": "python",
   "name": "python3"
  },
  "language_info": {
   "codemirror_mode": {
    "name": "ipython",
    "version": 3
   },
   "file_extension": ".py",
   "mimetype": "text/x-python",
   "name": "python",
   "nbconvert_exporter": "python",
   "pygments_lexer": "ipython3",
   "version": "3.10.4"
  }
 },
 "nbformat": 4,
 "nbformat_minor": 1
}
