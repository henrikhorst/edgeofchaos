{
 "cells": [
  {
   "cell_type": "code",
   "execution_count": 1,
   "id": "4c9859c9",
   "metadata": {},
   "outputs": [],
   "source": [
    "import ltspy3\n",
    "import create\n",
    "import matplotlib.pyplot as plt\n",
    "import pickle\n",
    "import numpy as np\n",
    "import pandas as pd"
   ]
  },
  {
   "cell_type": "code",
   "execution_count": 2,
   "id": "e567c1b1",
   "metadata": {},
   "outputs": [],
   "source": [
    "import sys \n",
    "sys.path.append(\"../\") # go to parent dir"
   ]
  },
  {
   "cell_type": "markdown",
   "id": "bfb88818",
   "metadata": {},
   "source": [
    "### Voltage sources"
   ]
  },
  {
   "cell_type": "code",
   "execution_count": 3,
   "id": "1ee70db4",
   "metadata": {},
   "outputs": [],
   "source": [
    "num_Vs=3 # how many voltage sources in the circuit\n",
    "voltage_value= 3*[10] # list of the value of each voltage source -> here just one because there is just one source"
   ]
  },
  {
   "cell_type": "code",
   "execution_count": 4,
   "id": "ce50b5f4",
   "metadata": {},
   "outputs": [],
   "source": [
    "V_config= {'num_Vs': num_Vs, 'values': voltage_value}"
   ]
  },
  {
   "cell_type": "markdown",
   "id": "b42e8a3b",
   "metadata": {},
   "source": [
    "### Oscillators"
   ]
  },
  {
   "cell_type": "code",
   "execution_count": 5,
   "id": "6ea818bb",
   "metadata": {},
   "outputs": [],
   "source": [
    "def create_oscillator(Rin_a= '40k', Ca_gnd= '20u', Rc_gnd= '200', Rin_g= '10k', Rg_gnd= '20k',\n",
    "                 input_connection= 'V1', output_connection= {}):\n",
    "    '''\n",
    "    This function creates a standard oscillator\n",
    "    '''\n",
    "    return {'Rin_a': Rin_a, 'Ca_gnd': Ca_gnd, 'Rc_gnd': Rc_gnd, 'Rin_g': Rin_g, 'Rg_gnd': Rg_gnd,\n",
    "                 'input_connection': input_connection, 'output_connection': output_connection}"
   ]
  },
  {
   "cell_type": "code",
   "execution_count": 6,
   "id": "aa6d48d0",
   "metadata": {},
   "outputs": [],
   "source": [
    "num_Os=3 # how many oscillators\n",
    "oscillators = []\n",
    "oscillator_config=[]\n",
    "# now manually create the desired component values below\n",
    "Rin_as=[43.375, 45.375, 44.375]\n",
    "Ca_gnds= 3*[20]\n",
    "input_connections = [f'V{x}' for x in range(1,num_Vs+1)]\n",
    "output_connections = num_Os*[{}]\n",
    "output_connections[0]= {'2': ['excitatory',{'R_coupling':'94k', 'C_coupling': '2u'}]}\n",
    "output_connections[1] = {'3': ['inhibitory',{'R_coupling':'1'}]}\n",
    "\n",
    "for i in range(num_Os):\n",
    "    oscillator_config.append({'Rin_a': f'{Rin_as[i]}k', 'Ca_gnd': f'{Ca_gnds[i]}u', 'input_connection': input_connections[i], 'output_connection': output_connections[i]})"
   ]
  },
  {
   "cell_type": "code",
   "execution_count": 7,
   "id": "f8a4b8e4",
   "metadata": {},
   "outputs": [],
   "source": [
    "for i in range(num_Os):\n",
    "    oscillator= create_oscillator(**oscillator_config[i])\n",
    "    oscillators.append(oscillator)"
   ]
  },
  {
   "cell_type": "code",
   "execution_count": 8,
   "id": "5ccea157",
   "metadata": {},
   "outputs": [
    {
     "data": {
      "text/plain": [
       "[{'Rin_a': '43.375k',\n",
       "  'Ca_gnd': '20u',\n",
       "  'Rc_gnd': '200',\n",
       "  'Rin_g': '10k',\n",
       "  'Rg_gnd': '20k',\n",
       "  'input_connection': 'V1',\n",
       "  'output_connection': {'2': ['excitatory',\n",
       "    {'R_coupling': '94k', 'C_coupling': '2u'}]}},\n",
       " {'Rin_a': '45.375k',\n",
       "  'Ca_gnd': '20u',\n",
       "  'Rc_gnd': '200',\n",
       "  'Rin_g': '10k',\n",
       "  'Rg_gnd': '20k',\n",
       "  'input_connection': 'V2',\n",
       "  'output_connection': {'3': ['inhibitory', {'R_coupling': '1'}]}},\n",
       " {'Rin_a': '44.375k',\n",
       "  'Ca_gnd': '20u',\n",
       "  'Rc_gnd': '200',\n",
       "  'Rin_g': '10k',\n",
       "  'Rg_gnd': '20k',\n",
       "  'input_connection': 'V3',\n",
       "  'output_connection': {}}]"
      ]
     },
     "execution_count": 8,
     "metadata": {},
     "output_type": "execute_result"
    }
   ],
   "source": [
    "oscillators"
   ]
  },
  {
   "cell_type": "code",
   "execution_count": 9,
   "id": "dd7729f4",
   "metadata": {},
   "outputs": [],
   "source": [
    "O_config = {'num_Os': num_Os, 'values': oscillators}"
   ]
  },
  {
   "cell_type": "markdown",
   "id": "029d1ee5",
   "metadata": {},
   "source": [
    "## Config dictionary"
   ]
  },
  {
   "cell_type": "code",
   "execution_count": 10,
   "id": "4bab9e00",
   "metadata": {},
   "outputs": [],
   "source": [
    "circuit_config ={'V': V_config, 'O': O_config}"
   ]
  },
  {
   "cell_type": "markdown",
   "id": "895a6ac3",
   "metadata": {},
   "source": [
    "### Write to file"
   ]
  },
  {
   "cell_type": "code",
   "execution_count": 11,
   "id": "29d545fa",
   "metadata": {},
   "outputs": [],
   "source": [
    "circuit_name= 'inhibit_excitat'\n",
    "with open(f'{circuit_name}.dictionary', 'wb') as config_dictionary_file:\n",
    " \n",
    "  pickle.dump(circuit_config, config_dictionary_file)"
   ]
  },
  {
   "cell_type": "code",
   "execution_count": 13,
   "id": "a9ce0096",
   "metadata": {},
   "outputs": [],
   "source": [
    "netlist=create.Fireflies(\"inhibit_excitat.dictionary\")"
   ]
  },
  {
   "cell_type": "code",
   "execution_count": 14,
   "id": "d3f423bc",
   "metadata": {},
   "outputs": [
    {
     "data": {
      "text/plain": [
       "[]"
      ]
     },
     "execution_count": 14,
     "metadata": {},
     "output_type": "execute_result"
    }
   ],
   "source": [
    "netlist.netlist"
   ]
  },
  {
   "cell_type": "code",
   "execution_count": 15,
   "id": "ba937402",
   "metadata": {},
   "outputs": [],
   "source": [
    "netlist.create_netlist()"
   ]
  },
  {
   "cell_type": "code",
   "execution_count": 16,
   "id": "3a6af455",
   "metadata": {},
   "outputs": [
    {
     "data": {
      "text/plain": [
       "[b'*  Edge of Chaos\\n',\n",
       " b'V1 V1 0 10\\n',\n",
       " b'V2 V2 0 10\\n',\n",
       " b'V3 V3 0 10\\n',\n",
       " b'R1 V1 anode1 43.375k\\n',\n",
       " b'C1 anode1 0 20u\\n',\n",
       " b'R2 cathode1 0 200\\n',\n",
       " b'R3 V1 gate1 10k\\n',\n",
       " b'R4 gate1 0 20k\\n',\n",
       " b'XU1 anode1 gate1 cathode1 2N6027\\n',\n",
       " b'C2 gate1 cr1 2u\\n',\n",
       " b'R5 cr1 gate2 94k\\n',\n",
       " b'R6 V2 anode2 45.375k\\n',\n",
       " b'C3 anode2 0 20u\\n',\n",
       " b'R7 cathode2 0 200\\n',\n",
       " b'R8 V2 gate2 10k\\n',\n",
       " b'R9 gate2 0 20k\\n',\n",
       " b'XU2 anode2 gate2 cathode2 2N6027\\n',\n",
       " b'M1 mr2 cathode2 0 0 NMOS\\n',\n",
       " b'R10 mr2 anode3 1\\n',\n",
       " b'R11 V3 anode3 44.375k\\n',\n",
       " b'C4 anode3 0 20u\\n',\n",
       " b'R12 cathode3 0 200\\n',\n",
       " b'R13 V3 gate3 10k\\n',\n",
       " b'R14 gate3 0 20k\\n',\n",
       " b'XU3 anode3 gate3 cathode3 2N6027\\n',\n",
       " b'.tran 0 180 1E-3 startup\\n',\n",
       " b'.model NMOS NMOS\\n',\n",
       " b'.model PMOS PMOS\\n',\n",
       " b'.lib 2N6027.LIB\\n',\n",
       " b'.lib standard.mos\\n',\n",
       " b'.backanno\\n',\n",
       " b'.end\\n']"
      ]
     },
     "execution_count": 16,
     "metadata": {},
     "output_type": "execute_result"
    }
   ],
   "source": [
    "netlist.netlist"
   ]
  },
  {
   "cell_type": "code",
   "execution_count": 17,
   "id": "56f43ec5",
   "metadata": {},
   "outputs": [],
   "source": [
    "netlist_file=netlist.return_netlist_file()"
   ]
  },
  {
   "cell_type": "code",
   "execution_count": 18,
   "id": "0843affd",
   "metadata": {},
   "outputs": [
    {
     "data": {
      "text/plain": [
       "b'*  Edge of Chaos\\nV1 V1 0 10\\nV2 V2 0 10\\nV3 V3 0 10\\nR1 V1 anode1 43.375k\\nC1 anode1 0 20u\\nR2 cathode1 0 200\\nR3 V1 gate1 10k\\nR4 gate1 0 20k\\nXU1 anode1 gate1 cathode1 2N6027\\nC2 gate1 cr1 2u\\nR5 cr1 gate2 94k\\nR6 V2 anode2 45.375k\\nC3 anode2 0 20u\\nR7 cathode2 0 200\\nR8 V2 gate2 10k\\nR9 gate2 0 20k\\nXU2 anode2 gate2 cathode2 2N6027\\nM1 mr2 cathode2 0 0 NMOS\\nR10 mr2 anode3 1\\nR11 V3 anode3 44.375k\\nC4 anode3 0 20u\\nR12 cathode3 0 200\\nR13 V3 gate3 10k\\nR14 gate3 0 20k\\nXU3 anode3 gate3 cathode3 2N6027\\n.tran 0 180 1E-3 startup\\n.model NMOS NMOS\\n.model PMOS PMOS\\n.lib 2N6027.LIB\\n.lib standard.mos\\n.backanno\\n.end\\n'"
      ]
     },
     "execution_count": 18,
     "metadata": {},
     "output_type": "execute_result"
    }
   ],
   "source": [
    "netlist_file"
   ]
  },
  {
   "cell_type": "code",
   "execution_count": 19,
   "id": "93551029",
   "metadata": {},
   "outputs": [],
   "source": [
    "with open('inhibit_excitat.txt', 'wb') as file:\n",
    "    file.write(netlist_file)"
   ]
  },
  {
   "cell_type": "markdown",
   "id": "01b8d63e",
   "metadata": {},
   "source": [
    "Test succeded! Small disturbances in circuit lead to small distrubances in firing time."
   ]
  },
  {
   "cell_type": "code",
   "execution_count": null,
   "id": "672010c5",
   "metadata": {},
   "outputs": [],
   "source": []
  }
 ],
 "metadata": {
  "kernelspec": {
   "display_name": "Python 3 (ipykernel)",
   "language": "python",
   "name": "python3"
  },
  "language_info": {
   "codemirror_mode": {
    "name": "ipython",
    "version": 3
   },
   "file_extension": ".py",
   "mimetype": "text/x-python",
   "name": "python",
   "nbconvert_exporter": "python",
   "pygments_lexer": "ipython3",
   "version": "3.10.4"
  }
 },
 "nbformat": 4,
 "nbformat_minor": 5
}
