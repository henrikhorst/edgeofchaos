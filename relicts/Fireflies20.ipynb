{
 "cells": [
  {
   "cell_type": "markdown",
   "metadata": {},
   "source": [
    "Analysis of all-to-all connected excitory oscillators networks\n"
   ]
  },
  {
   "cell_type": "markdown",
   "metadata": {
    "id": "mCxOtDVJaULi"
   },
   "source": [
    "Author Henrik Horst, Supervisor Maximiliane Noll\n",
    "\n",
    "16.05.2022"
   ]
  },
  {
   "cell_type": "code",
   "execution_count": 1,
   "metadata": {
    "id": "nZPrIiSO6CZJ"
   },
   "outputs": [],
   "source": [
    "#import relevant libraries\n",
    "%matplotlib inline\n",
    "import matplotlib.pyplot as plt\n",
    "import numpy as np\n",
    "import pandas as pd\n",
    "import random\n",
    "import powerlaw\n",
    "\n",
    " \n",
    "\n",
    "# Set the random seed for data generation (just for test cases)\n",
    "\n",
    "np.random.seed(42)\n",
    "\n",
    "# Set spike threshold (above this value the output value of an oscillator is considered a spike)\n",
    "th=1"
   ]
  },
  {
   "cell_type": "markdown",
   "metadata": {
    "id": "s2h7Jr45RsAO"
   },
   "source": [
    "First let's define a function to extract the spikes from the simulation data"
   ]
  },
  {
   "cell_type": "code",
   "execution_count": 2,
   "metadata": {
    "id": "FQ4EWTllDoH0"
   },
   "outputs": [],
   "source": [
    "def get_spikes(arr,th=th, rise=True):\n",
    "  '''\n",
    "    Function for extracting spikes from a block of the oscillators output \n",
    "    voltage values given the spiking threshold.\n",
    "    Parameters:\n",
    "        arr: array of voltage values, each column corresponds to one oscillator, a numpy array\n",
    "        th: threshold value above which the output voltage is considered to be a spike, a scalar\n",
    "        rise: For True get the time value where voltage goes above the threshold(beginning of the spike) and for False where the voltage\n",
    "              goes below the threshold (end of spike)\n",
    "    Returns:\n",
    "        an array to filter the arr or any other corresponding array for the extracted values\n",
    "        (think of this as an indexing block which gives you just the values which we want by the operation specified in this function)\n",
    "  '''\n",
    "  NST = np.diff(np.sign(arr-th),axis=0) \n",
    "  #print(NST)\n",
    "  if rise==True:\n",
    "    NST = np.where(NST>1)\n",
    "  if rise==False:\n",
    "    NST = np.where(NST<-1)\n",
    "  #print(NST)\n",
    "  return NST"
   ]
  },
  {
   "cell_type": "markdown",
   "metadata": {
    "id": "PojOKW-Nsf91"
   },
   "source": [
    "##Load data"
   ]
  },
  {
   "cell_type": "code",
   "execution_count": 3,
   "metadata": {},
   "outputs": [],
   "source": [
    "#os.getcwd()"
   ]
  },
  {
   "cell_type": "code",
   "execution_count": 4,
   "metadata": {},
   "outputs": [],
   "source": [
    "#os.chdir('data')#C:\\Users\\h3nr1\\PycharmProjects\\edgeofchaos\\data"
   ]
  },
  {
   "cell_type": "code",
   "execution_count": 3,
   "metadata": {
    "id": "r6L81uX49TVx"
   },
   "outputs": [],
   "source": [
    "#read in data from LTSpice into pandas dataframe\n",
    "df = pd.read_csv('./data/MixedCaps180s/fireflys100_1OhmCouplingResistance.txt', delimiter = \"\\t\")"
   ]
  },
  {
   "cell_type": "code",
   "execution_count": 4,
   "metadata": {
    "colab": {
     "base_uri": "https://localhost:8080/",
     "height": 299
    },
    "id": "zYxRCVKM-c76",
    "outputId": "df795b25-88cb-47a6-fd09-1ee89c10acb7"
   },
   "outputs": [
    {
     "data": {
      "text/html": [
       "<div>\n",
       "<style scoped>\n",
       "    .dataframe tbody tr th:only-of-type {\n",
       "        vertical-align: middle;\n",
       "    }\n",
       "\n",
       "    .dataframe tbody tr th {\n",
       "        vertical-align: top;\n",
       "    }\n",
       "\n",
       "    .dataframe thead th {\n",
       "        text-align: right;\n",
       "    }\n",
       "</style>\n",
       "<table border=\"1\" class=\"dataframe\">\n",
       "  <thead>\n",
       "    <tr style=\"text-align: right;\">\n",
       "      <th></th>\n",
       "      <th>time</th>\n",
       "      <th>V(k1)</th>\n",
       "      <th>V(k2)</th>\n",
       "      <th>V(k3)</th>\n",
       "      <th>V(k4)</th>\n",
       "      <th>V(k5)</th>\n",
       "      <th>V(k6)</th>\n",
       "      <th>V(k7)</th>\n",
       "      <th>V(k8)</th>\n",
       "      <th>V(k9)</th>\n",
       "      <th>...</th>\n",
       "      <th>V(k91)</th>\n",
       "      <th>V(k92)</th>\n",
       "      <th>V(k93)</th>\n",
       "      <th>V(k94)</th>\n",
       "      <th>V(k95)</th>\n",
       "      <th>V(k96)</th>\n",
       "      <th>V(k97)</th>\n",
       "      <th>V(k98)</th>\n",
       "      <th>V(k99)</th>\n",
       "      <th>V(k100)</th>\n",
       "    </tr>\n",
       "  </thead>\n",
       "  <tbody>\n",
       "    <tr>\n",
       "      <th>0</th>\n",
       "      <td>0.000000</td>\n",
       "      <td>0.000003</td>\n",
       "      <td>0.000003</td>\n",
       "      <td>0.000003</td>\n",
       "      <td>0.000003</td>\n",
       "      <td>0.000003</td>\n",
       "      <td>0.000003</td>\n",
       "      <td>0.000003</td>\n",
       "      <td>0.000003</td>\n",
       "      <td>0.000003</td>\n",
       "      <td>...</td>\n",
       "      <td>0.000003</td>\n",
       "      <td>0.000003</td>\n",
       "      <td>0.000003</td>\n",
       "      <td>0.000003</td>\n",
       "      <td>0.000003</td>\n",
       "      <td>0.000003</td>\n",
       "      <td>0.000003</td>\n",
       "      <td>0.000003</td>\n",
       "      <td>0.000003</td>\n",
       "      <td>0.000003</td>\n",
       "    </tr>\n",
       "    <tr>\n",
       "      <th>1</th>\n",
       "      <td>0.000031</td>\n",
       "      <td>0.000003</td>\n",
       "      <td>0.000003</td>\n",
       "      <td>0.000003</td>\n",
       "      <td>0.000003</td>\n",
       "      <td>0.000003</td>\n",
       "      <td>0.000003</td>\n",
       "      <td>0.000003</td>\n",
       "      <td>0.000003</td>\n",
       "      <td>0.000003</td>\n",
       "      <td>...</td>\n",
       "      <td>0.000003</td>\n",
       "      <td>0.000003</td>\n",
       "      <td>0.000003</td>\n",
       "      <td>0.000003</td>\n",
       "      <td>0.000003</td>\n",
       "      <td>0.000003</td>\n",
       "      <td>0.000003</td>\n",
       "      <td>0.000003</td>\n",
       "      <td>0.000003</td>\n",
       "      <td>0.000003</td>\n",
       "    </tr>\n",
       "    <tr>\n",
       "      <th>2</th>\n",
       "      <td>0.000092</td>\n",
       "      <td>0.000002</td>\n",
       "      <td>0.000002</td>\n",
       "      <td>0.000002</td>\n",
       "      <td>0.000002</td>\n",
       "      <td>0.000002</td>\n",
       "      <td>0.000002</td>\n",
       "      <td>0.000002</td>\n",
       "      <td>0.000002</td>\n",
       "      <td>0.000002</td>\n",
       "      <td>...</td>\n",
       "      <td>0.000002</td>\n",
       "      <td>0.000002</td>\n",
       "      <td>0.000002</td>\n",
       "      <td>0.000002</td>\n",
       "      <td>0.000002</td>\n",
       "      <td>0.000002</td>\n",
       "      <td>0.000002</td>\n",
       "      <td>0.000002</td>\n",
       "      <td>0.000002</td>\n",
       "      <td>0.000002</td>\n",
       "    </tr>\n",
       "    <tr>\n",
       "      <th>3</th>\n",
       "      <td>0.000458</td>\n",
       "      <td>0.000002</td>\n",
       "      <td>0.000002</td>\n",
       "      <td>0.000002</td>\n",
       "      <td>0.000002</td>\n",
       "      <td>0.000002</td>\n",
       "      <td>0.000002</td>\n",
       "      <td>0.000002</td>\n",
       "      <td>0.000002</td>\n",
       "      <td>0.000002</td>\n",
       "      <td>...</td>\n",
       "      <td>0.000002</td>\n",
       "      <td>0.000002</td>\n",
       "      <td>0.000002</td>\n",
       "      <td>0.000002</td>\n",
       "      <td>0.000002</td>\n",
       "      <td>0.000002</td>\n",
       "      <td>0.000002</td>\n",
       "      <td>0.000002</td>\n",
       "      <td>0.000002</td>\n",
       "      <td>0.000002</td>\n",
       "    </tr>\n",
       "    <tr>\n",
       "      <th>4</th>\n",
       "      <td>0.000946</td>\n",
       "      <td>0.000001</td>\n",
       "      <td>0.000001</td>\n",
       "      <td>0.000001</td>\n",
       "      <td>0.000001</td>\n",
       "      <td>0.000001</td>\n",
       "      <td>0.000001</td>\n",
       "      <td>0.000001</td>\n",
       "      <td>0.000001</td>\n",
       "      <td>0.000001</td>\n",
       "      <td>...</td>\n",
       "      <td>0.000001</td>\n",
       "      <td>0.000001</td>\n",
       "      <td>0.000001</td>\n",
       "      <td>0.000001</td>\n",
       "      <td>0.000001</td>\n",
       "      <td>0.000001</td>\n",
       "      <td>0.000001</td>\n",
       "      <td>0.000001</td>\n",
       "      <td>0.000001</td>\n",
       "      <td>0.000001</td>\n",
       "    </tr>\n",
       "  </tbody>\n",
       "</table>\n",
       "<p>5 rows × 101 columns</p>\n",
       "</div>"
      ],
      "text/plain": [
       "       time     V(k1)     V(k2)     V(k3)     V(k4)     V(k5)     V(k6)  \\\n",
       "0  0.000000  0.000003  0.000003  0.000003  0.000003  0.000003  0.000003   \n",
       "1  0.000031  0.000003  0.000003  0.000003  0.000003  0.000003  0.000003   \n",
       "2  0.000092  0.000002  0.000002  0.000002  0.000002  0.000002  0.000002   \n",
       "3  0.000458  0.000002  0.000002  0.000002  0.000002  0.000002  0.000002   \n",
       "4  0.000946  0.000001  0.000001  0.000001  0.000001  0.000001  0.000001   \n",
       "\n",
       "      V(k7)     V(k8)     V(k9)  ...    V(k91)    V(k92)    V(k93)    V(k94)  \\\n",
       "0  0.000003  0.000003  0.000003  ...  0.000003  0.000003  0.000003  0.000003   \n",
       "1  0.000003  0.000003  0.000003  ...  0.000003  0.000003  0.000003  0.000003   \n",
       "2  0.000002  0.000002  0.000002  ...  0.000002  0.000002  0.000002  0.000002   \n",
       "3  0.000002  0.000002  0.000002  ...  0.000002  0.000002  0.000002  0.000002   \n",
       "4  0.000001  0.000001  0.000001  ...  0.000001  0.000001  0.000001  0.000001   \n",
       "\n",
       "     V(k95)    V(k96)    V(k97)    V(k98)    V(k99)   V(k100)  \n",
       "0  0.000003  0.000003  0.000003  0.000003  0.000003  0.000003  \n",
       "1  0.000003  0.000003  0.000003  0.000003  0.000003  0.000003  \n",
       "2  0.000002  0.000002  0.000002  0.000002  0.000002  0.000002  \n",
       "3  0.000002  0.000002  0.000002  0.000002  0.000002  0.000002  \n",
       "4  0.000001  0.000001  0.000001  0.000001  0.000001  0.000001  \n",
       "\n",
       "[5 rows x 101 columns]"
      ]
     },
     "execution_count": 4,
     "metadata": {},
     "output_type": "execute_result"
    }
   ],
   "source": [
    "df.head()"
   ]
  },
  {
   "cell_type": "code",
   "execution_count": 5,
   "metadata": {},
   "outputs": [
    {
     "data": {
      "text/plain": [
       "101"
      ]
     },
     "execution_count": 5,
     "metadata": {},
     "output_type": "execute_result"
    }
   ],
   "source": [
    "df.shape[1]"
   ]
  },
  {
   "cell_type": "code",
   "execution_count": 6,
   "metadata": {
    "colab": {
     "base_uri": "https://localhost:8080/"
    },
    "id": "iq4SiW6PE_6N",
    "outputId": "4314a043-c7b6-460c-f917-925de90cd65d"
   },
   "outputs": [
    {
     "name": "stdout",
     "output_type": "stream",
     "text": [
      "(2398954, 100)\n",
      "(2398955, 100)\n"
     ]
    }
   ],
   "source": [
    "#extract values from the dataframe\n",
    "spike_data=df.iloc[:,1:].values #now data in numpy array format\n",
    "print(spike_data.shape)\n",
    "spike_data=np.concatenate((np.zeros((1,df.shape[1]-1)), spike_data), axis=0) #this is due to the np.diff in the get_spikes function which\n",
    "#takes the difference of two values, so to consider also the first value on its own we have to add a zero in front, this is also\n",
    "#necessary to not induce a time shift in the filtered time array with the reurn value from get_spike()\n",
    "print(spike_data.shape)\n",
    "time=df.iloc[:,0].values"
   ]
  },
  {
   "cell_type": "markdown",
   "metadata": {
    "id": "lhgkv8ZztRJX"
   },
   "source": [
    "##Assemble the data"
   ]
  },
  {
   "cell_type": "code",
   "execution_count": 7,
   "metadata": {
    "id": "KfQcePCZSYeT"
   },
   "outputs": [],
   "source": [
    "number_of_oscillators=spike_data.shape[1]"
   ]
  },
  {
   "cell_type": "code",
   "execution_count": 8,
   "metadata": {
    "id": "oDRy0RgNMPz9"
   },
   "outputs": [],
   "source": [
    "#write spike times in form of different lengths numpy arrays into one list with each entry the spikes of one oscillator\n",
    "all_spike_start_times=[]\n",
    "for i in range(number_of_oscillators):\n",
    "  all_spike_start_times.append(time[get_spikes(spike_data[:,i])])\n",
    "\n"
   ]
  },
  {
   "cell_type": "code",
   "execution_count": 10,
   "metadata": {},
   "outputs": [
    {
     "data": {
      "text/plain": [
       "array([ 1.03545299,  2.004259  ,  2.97295528,  3.94164011,  4.9101455 ,\n",
       "        5.87866168,  6.84725911,  7.81568837,  8.78422389,  9.75275168,\n",
       "       10.7211426 , 11.68911528, 12.65765268, 13.62595823, 14.59438558])"
      ]
     },
     "execution_count": 10,
     "metadata": {},
     "output_type": "execute_result"
    }
   ],
   "source": [
    "all_spike_start_times[0][:15]"
   ]
  },
  {
   "cell_type": "code",
   "execution_count": 9,
   "metadata": {},
   "outputs": [
    {
     "name": "stdout",
     "output_type": "stream",
     "text": [
      "0 (185,)\n",
      "1 (308,)\n",
      "2 (262,)\n",
      "3 (228,)\n",
      "4 (364,)\n",
      "5 (181,)\n",
      "6 (300,)\n",
      "7 (256,)\n",
      "8 (223,)\n",
      "9 (355,)\n",
      "10 (185,)\n",
      "11 (263,)\n",
      "12 (229,)\n",
      "13 (202,)\n",
      "14 (363,)\n",
      "15 (180,)\n",
      "16 (257,)\n",
      "17 (224,)\n",
      "18 (198,)\n",
      "19 (355,)\n",
      "20 (177,)\n",
      "21 (293,)\n",
      "22 (250,)\n",
      "23 (218,)\n",
      "24 (347,)\n",
      "25 (173,)\n",
      "26 (287,)\n",
      "27 (245,)\n",
      "28 (213,)\n",
      "29 (339,)\n",
      "30 (176,)\n",
      "31 (251,)\n",
      "32 (218,)\n",
      "33 (193,)\n",
      "34 (346,)\n",
      "35 (172,)\n",
      "36 (245,)\n",
      "37 (213,)\n",
      "38 (189,)\n",
      "39 (339,)\n",
      "40 (169,)\n",
      "41 (280,)\n",
      "42 (239,)\n",
      "43 (208,)\n",
      "44 (332,)\n",
      "45 (165,)\n",
      "46 (274,)\n",
      "47 (234,)\n",
      "48 (204,)\n",
      "49 (325,)\n",
      "50 (168,)\n",
      "51 (240,)\n",
      "52 (209,)\n",
      "53 (185,)\n",
      "54 (331,)\n",
      "55 (165,)\n",
      "56 (234,)\n",
      "57 (204,)\n",
      "58 (181,)\n",
      "59 (324,)\n",
      "60 (161,)\n",
      "61 (268,)\n",
      "62 (263,)\n",
      "63 (225,)\n",
      "64 (352,)\n",
      "65 (172,)\n",
      "66 (280,)\n",
      "67 (235,)\n",
      "68 (201,)\n",
      "69 (359,)\n",
      "70 (161,)\n",
      "71 (229,)\n",
      "72 (228,)\n",
      "73 (197,)\n",
      "74 (348,)\n",
      "75 (170,)\n",
      "76 (237,)\n",
      "77 (203,)\n",
      "78 (204,)\n",
      "79 (351,)\n",
      "80 (171,)\n",
      "81 (273,)\n",
      "82 (261,)\n",
      "83 (218,)\n",
      "84 (335,)\n",
      "85 (185,)\n",
      "86 (294,)\n",
      "87 (241,)\n",
      "88 (201,)\n",
      "89 (321,)\n",
      "90 (167,)\n",
      "91 (229,)\n",
      "92 (223,)\n",
      "93 (189,)\n",
      "94 (326,)\n",
      "95 (180,)\n",
      "96 (246,)\n",
      "97 (206,)\n",
      "98 (178,)\n",
      "99 (320,)\n"
     ]
    }
   ],
   "source": [
    "for i in range(len(all_spike_start_times)):\n",
    "        print(i,all_spike_start_times[i].shape)\n",
    "        "
   ]
  },
  {
   "cell_type": "code",
   "execution_count": 11,
   "metadata": {
    "colab": {
     "base_uri": "https://localhost:8080/",
     "height": 1000
    },
    "id": "AA97Qj85sHe1",
    "outputId": "b598d155-e858-4e6c-bdd1-d2abacb48126"
   },
   "outputs": [
    {
     "name": "stdout",
     "output_type": "stream",
     "text": [
      "Calculating best minimal value for power law fit\n"
     ]
    },
    {
     "name": "stderr",
     "output_type": "stream",
     "text": [
      "Less than 2 unique data values left after xmin and xmax options! Cannot fit. Returning nans.\n",
      "C:\\Users\\h3nr1\\PycharmProjects\\edgeofchaos\\venv\\lib\\site-packages\\powerlaw.py:1156: RuntimeWarning: invalid value encountered in double_scalars\n",
      "  self.alpha = 1 + (self.n / sum(log(data / (self.xmin - .5))))\n",
      "C:\\Users\\h3nr1\\PycharmProjects\\edgeofchaos\\venv\\lib\\site-packages\\powerlaw.py:1170: RuntimeWarning: invalid value encountered in double_scalars\n",
      "  return 1 + len(data)/sum(log(data / (self.xmin)))\n",
      "Not enough data. Returning nan\n",
      "Not enough data. Returning nan\n",
      "C:\\Users\\h3nr1\\PycharmProjects\\edgeofchaos\\venv\\lib\\site-packages\\numpy\\core\\fromnumeric.py:3474: RuntimeWarning: Mean of empty slice.\n",
      "  return _methods._mean(a, axis=axis, dtype=dtype,\n",
      "C:\\Users\\h3nr1\\PycharmProjects\\edgeofchaos\\venv\\lib\\site-packages\\numpy\\core\\_methods.py:189: RuntimeWarning: invalid value encountered in double_scalars\n",
      "  ret = ret.dtype.type(ret / rcount)\n",
      "No valid fits found.\n",
      "Not enough data. Returning nan\n"
     ]
    },
    {
     "name": "stdout",
     "output_type": "stream",
     "text": [
      "nan\n",
      "nan\n",
      "R: 0, p: 1\n",
      "Calculating best minimal value for power law fit\n",
      "3.173541664986885%\n",
      "6919.0\n",
      "R: 0.10522532147127445, p: 0.9161970186275319\n",
      "Calculating best minimal value for power law fit\n",
      "2.6776042018865946\n",
      "313.0\n",
      "R: -0.7277688452243816, p: 0.4667550988262156\n",
      "Calculating best minimal value for power law fit\n",
      "6.776625303450334%\n",
      "56.0\n",
      "R: -1.1518303901484928, p: 0.24939077715038138\n",
      "Calculating best minimal value for power law fit\n",
      "4.888999727619627%\n",
      "11.0\n",
      "R: -2.5720136160025446, p: 0.01011089151361312\n",
      "Calculating best minimal value for power law fit\n",
      "13.219094277030878\n",
      "12.0\n",
      "R: -1.0742760711119457, p: 0.2826989665084645\n",
      "Calculating best minimal value for power law fit\n",
      "6.709594717847073%\n",
      "7.0\n",
      "R: -2.004144534029671, p: 0.045054580082504146\n",
      "Calculating best minimal value for power law fit\n",
      "6.198491076931675%\n",
      "4.0\n",
      "R: -1.5054467754186747, p: 0.13220925096216074\n",
      "Calculating best minimal value for power law fit\n",
      "4.401646068822865%\n",
      "2.0\n",
      "R: -12.304065239152585, p: 8.612776249587742e-35\n",
      "Calculating best minimal value for power law fit\n",
      "2.441387875166812%\n",
      "1.0\n",
      "R: -297.55783205190323, p: 0.0\n",
      "Calculating best minimal value for power law fit\n",
      "2.442635624265229%\n",
      "1.0\n",
      "R: -897.1923293732194, p: 0.0\n"
     ]
    },
    {
     "data": {
      "image/png": "[encoded data removed]",
      "text/plain": [
       "<Figure size 432x288 with 1 Axes>"
      ]
     },
     "metadata": {
      "needs_background": "light"
     },
     "output_type": "display_data"
    },
    {
     "data": {
      "image/png": "[encoded data removed]",
      "text/plain": [
       "<Figure size 432x288 with 1 Axes>"
      ]
     },
     "metadata": {
      "needs_background": "light"
     },
     "output_type": "display_data"
    },
    {
     "data": {
      "image/png": "[encoded data removed]",
      "text/plain": [
       "<Figure size 432x288 with 1 Axes>"
      ]
     },
     "metadata": {
      "needs_background": "light"
     },
     "output_type": "display_data"
    },
    {
     "data": {
      "image/png": "[encoded data removed]",
      "text/plain": [
       "<Figure size 432x288 with 1 Axes>"
      ]
     },
     "metadata": {
      "needs_background": "light"
     },
     "output_type": "display_data"
    },
    {
     "data": {
      "image/png": "[encoded data removed]",
      "text/plain": [
       "<Figure size 432x288 with 1 Axes>"
      ]
     },
     "metadata": {
      "needs_background": "light"
     },
     "output_type": "display_data"
    },
    {
     "data": {
      "image/png": "[encoded data removed]",
      "text/plain": [
       "<Figure size 432x288 with 1 Axes>"
      ]
     },
     "metadata": {
      "needs_background": "light"
     },
     "output_type": "display_data"
    },
    {
     "data": {
      "image/png": "[encoded data removed]",
      "text/plain": [
       "<Figure size 432x288 with 1 Axes>"
      ]
     },
     "metadata": {
      "needs_background": "light"
     },
     "output_type": "display_data"
    },
    {
     "data": {
      "image/png": "[encoded data removed]",
      "text/plain": [
       "<Figure size 432x288 with 1 Axes>"
      ]
     },
     "metadata": {
      "needs_background": "light"
     },
     "output_type": "display_data"
    },
    {
     "data": {
      "image/png": "[encoded data removed]",
      "text/plain": [
       "<Figure size 432x288 with 1 Axes>"
      ]
     },
     "metadata": {
      "needs_background": "light"
     },
     "output_type": "display_data"
    },
    {
     "data": {
      "image/png": "[encoded data removed]",
      "text/plain": [
       "<Figure size 432x288 with 1 Axes>"
      ]
     },
     "metadata": {
      "needs_background": "light"
     },
     "output_type": "display_data"
    },
    {
     "data": {
      "image/png": "[encoded data removed]",
      "text/plain": [
       "<Figure size 432x288 with 1 Axes>"
      ]
     },
     "metadata": {
      "needs_background": "light"
     },
     "output_type": "display_data"
    }
   ],
   "source": [
    "#set frame duration -> in the paper this ranged from 1 to 16ms\n",
    "frame_duration=[0.1,0.064,0.032,0.016,0.008,0.004,0.002,0.001,0.0001,0.00001,0.000001]#50ms\n",
    "t_simulation=180\n",
    "Rs=[]\n",
    "for f in frame_duration:\n",
    "\n",
    "  frames = np.linspace(0,t_simulation,int(t_simulation/f)+1)\n",
    "\n",
    "  spiking_neurons_per_frame=np.zeros(len(frames))\n",
    "  for i in range(len(all_spike_start_times)):\n",
    "    for j in np.digitize(all_spike_start_times[i],frames):\n",
    "      spiking_neurons_per_frame[j-1]+=1\n",
    "\n",
    "  avalanche_sizes=[]\n",
    "  curr_avalanche=False\n",
    "  for elem in spiking_neurons_per_frame:\n",
    "    if elem>0:\n",
    "      if curr_avalanche==False:\n",
    "        avalanche_sizes.append(elem)\n",
    "        curr_avalanche=True\n",
    "      else:\n",
    "        avalanche_sizes[-1]+=elem\n",
    "    \n",
    "\n",
    "    else:\n",
    "      curr_avalanche=False\n",
    "\n",
    "  import powerlaw\n",
    "\n",
    "  results = powerlaw.Fit(avalanche_sizes, discrete=True)\n",
    "  print(results.power_law.alpha)\n",
    "  print(results.power_law.xmin)\n",
    "  R, p = results.distribution_compare('power_law', 'exponential', normalized_ratio=True)#'truncated_power_law', 'lognormal'\n",
    "  print(f\"R: {R}, p: {p}\")\n",
    "  Rs.append(R)\n",
    "\n",
    "  plt.figure()\n",
    "  powerlaw.plot_ccdf(avalanche_sizes, color='r', label=f'R: {R:.1f}, $Δ$t: {1000*f}')\n",
    "  plt.legend()\n",
    "  plt.xlabel('avalanche sizes')\n",
    "  plt.ylabel('ccdf')\n",
    "  plt.title('20 all-to-all connected Oscillators over 90s with 0.001k coupling resistance')\n",
    "  #plt.savefig(f'outputs/fireflies20_ccdf_1_{1000*f}ms.png')"
   ]
  },
  {
   "cell_type": "code",
   "execution_count": 12,
   "metadata": {
    "scrolled": false
   },
   "outputs": [
    {
     "data": {
      "text/plain": [
       "[0,\n",
       " 0.10522532147127445,\n",
       " -0.7277688452243816,\n",
       " -1.1518303901484928,\n",
       " -2.5720136160025446,\n",
       " -1.0742760711119457,\n",
       " -2.004144534029671,\n",
       " -1.5054467754186747,\n",
       " -12.304065239152585,\n",
       " -297.55783205190323,\n",
       " -897.1923293732194]"
      ]
     },
     "execution_count": 12,
     "metadata": {},
     "output_type": "execute_result"
    }
   ],
   "source": [
    "Rs"
   ]
  },
  {
   "cell_type": "code",
   "execution_count": 28,
   "metadata": {},
   "outputs": [],
   "source": [
    "#rs = pd.DataFrame({'1':Rs}, index=['$Δ$t: 100.0ms','$Δ$t: 64.0ms','$Δ$t: 32.0ms','$Δ$t: 16.0ms','$Δ$t: 8.0ms','$Δ$t: 4.0ms','$Δ$t: 2.0ms','$Δ$t: 1.0ms','$Δ$t: 0.1ms','$Δ$t: 0.01ms','$Δ$t: 0.001ms'])"
   ]
  },
  {
   "cell_type": "code",
   "execution_count": 29,
   "metadata": {},
   "outputs": [],
   "source": [
    "#rs.head(10)"
   ]
  },
  {
   "cell_type": "code",
   "execution_count": 30,
   "metadata": {},
   "outputs": [],
   "source": [
    "r_df=pd.read_csv('R_values_fireflies100_180s.csv',index_col=0)"
   ]
  },
  {
   "cell_type": "code",
   "execution_count": 31,
   "metadata": {},
   "outputs": [
    {
     "data": {
      "text/html": [
       "<div>\n",
       "<style scoped>\n",
       "    .dataframe tbody tr th:only-of-type {\n",
       "        vertical-align: middle;\n",
       "    }\n",
       "\n",
       "    .dataframe tbody tr th {\n",
       "        vertical-align: top;\n",
       "    }\n",
       "\n",
       "    .dataframe thead th {\n",
       "        text-align: right;\n",
       "    }\n",
       "</style>\n",
       "<table border=\"1\" class=\"dataframe\">\n",
       "  <thead>\n",
       "    <tr style=\"text-align: right;\">\n",
       "      <th></th>\n",
       "      <th>1</th>\n",
       "      <th>1k</th>\n",
       "      <th>2k</th>\n",
       "      <th>3k</th>\n",
       "      <th>4k</th>\n",
       "      <th>5k</th>\n",
       "      <th>6k</th>\n",
       "      <th>7k</th>\n",
       "      <th>8k</th>\n",
       "      <th>9k</th>\n",
       "      <th>...</th>\n",
       "      <th>11k</th>\n",
       "      <th>12k</th>\n",
       "      <th>13k</th>\n",
       "      <th>14k</th>\n",
       "      <th>15k</th>\n",
       "      <th>16k</th>\n",
       "      <th>17k</th>\n",
       "      <th>18k</th>\n",
       "      <th>19k</th>\n",
       "      <th>20k</th>\n",
       "    </tr>\n",
       "  </thead>\n",
       "  <tbody>\n",
       "    <tr>\n",
       "      <th>$Δ$t: 100.0ms</th>\n",
       "      <td>3.337721</td>\n",
       "      <td>0.810429</td>\n",
       "      <td>1.704081</td>\n",
       "      <td>5.713207</td>\n",
       "      <td>-5.298501</td>\n",
       "      <td>-3.456437</td>\n",
       "      <td>-3.721798</td>\n",
       "      <td>-7.673341</td>\n",
       "      <td>-0.415694</td>\n",
       "      <td>-0.497484</td>\n",
       "      <td>...</td>\n",
       "      <td>-0.395692</td>\n",
       "      <td>-0.452807</td>\n",
       "      <td>-0.452807</td>\n",
       "      <td>-0.351908</td>\n",
       "      <td>-0.305226</td>\n",
       "      <td>-0.331813</td>\n",
       "      <td>-0.367911</td>\n",
       "      <td>-0.441432</td>\n",
       "      <td>-0.228947</td>\n",
       "      <td>-0.321337</td>\n",
       "    </tr>\n",
       "    <tr>\n",
       "      <th>$Δ$t: 64.0ms</th>\n",
       "      <td>3.899112</td>\n",
       "      <td>2.632228</td>\n",
       "      <td>0.054821</td>\n",
       "      <td>9.226633</td>\n",
       "      <td>12.337119</td>\n",
       "      <td>11.875021</td>\n",
       "      <td>12.461095</td>\n",
       "      <td>11.279649</td>\n",
       "      <td>10.777922</td>\n",
       "      <td>10.696341</td>\n",
       "      <td>...</td>\n",
       "      <td>10.606813</td>\n",
       "      <td>10.795037</td>\n",
       "      <td>10.827627</td>\n",
       "      <td>10.631012</td>\n",
       "      <td>10.713412</td>\n",
       "      <td>10.706211</td>\n",
       "      <td>10.591854</td>\n",
       "      <td>10.651879</td>\n",
       "      <td>10.774764</td>\n",
       "      <td>10.591854</td>\n",
       "    </tr>\n",
       "    <tr>\n",
       "      <th>$Δ$t: 32.0ms</th>\n",
       "      <td>0.726001</td>\n",
       "      <td>-1.262841</td>\n",
       "      <td>-2.260036</td>\n",
       "      <td>33.915308</td>\n",
       "      <td>27.839335</td>\n",
       "      <td>26.537678</td>\n",
       "      <td>23.983219</td>\n",
       "      <td>20.400340</td>\n",
       "      <td>16.852318</td>\n",
       "      <td>16.852318</td>\n",
       "      <td>...</td>\n",
       "      <td>16.852318</td>\n",
       "      <td>16.771025</td>\n",
       "      <td>16.852318</td>\n",
       "      <td>16.852318</td>\n",
       "      <td>16.852318</td>\n",
       "      <td>16.852318</td>\n",
       "      <td>16.852318</td>\n",
       "      <td>16.852318</td>\n",
       "      <td>16.852318</td>\n",
       "      <td>16.965958</td>\n",
       "    </tr>\n",
       "    <tr>\n",
       "      <th>$Δ$t: 16.0ms</th>\n",
       "      <td>1.487922</td>\n",
       "      <td>-0.072186</td>\n",
       "      <td>-0.830829</td>\n",
       "      <td>47.636715</td>\n",
       "      <td>47.045831</td>\n",
       "      <td>45.875365</td>\n",
       "      <td>47.613591</td>\n",
       "      <td>42.691538</td>\n",
       "      <td>30.197252</td>\n",
       "      <td>30.602338</td>\n",
       "      <td>...</td>\n",
       "      <td>31.100658</td>\n",
       "      <td>31.101265</td>\n",
       "      <td>30.879820</td>\n",
       "      <td>31.599957</td>\n",
       "      <td>30.711337</td>\n",
       "      <td>30.879861</td>\n",
       "      <td>30.865908</td>\n",
       "      <td>31.336667</td>\n",
       "      <td>30.449458</td>\n",
       "      <td>31.152421</td>\n",
       "    </tr>\n",
       "    <tr>\n",
       "      <th>$Δ$t: 8.0ms</th>\n",
       "      <td>1.513661</td>\n",
       "      <td>0.941596</td>\n",
       "      <td>-0.521541</td>\n",
       "      <td>52.184647</td>\n",
       "      <td>57.546912</td>\n",
       "      <td>57.703087</td>\n",
       "      <td>63.738271</td>\n",
       "      <td>60.951950</td>\n",
       "      <td>52.688903</td>\n",
       "      <td>53.314134</td>\n",
       "      <td>...</td>\n",
       "      <td>53.089898</td>\n",
       "      <td>53.623863</td>\n",
       "      <td>53.210929</td>\n",
       "      <td>53.779130</td>\n",
       "      <td>52.865159</td>\n",
       "      <td>52.387181</td>\n",
       "      <td>54.089949</td>\n",
       "      <td>53.623863</td>\n",
       "      <td>53.596093</td>\n",
       "      <td>53.204638</td>\n",
       "    </tr>\n",
       "    <tr>\n",
       "      <th>$Δ$t: 4.0ms</th>\n",
       "      <td>0.992365</td>\n",
       "      <td>1.637085</td>\n",
       "      <td>-0.325898</td>\n",
       "      <td>53.455126</td>\n",
       "      <td>59.023448</td>\n",
       "      <td>59.479858</td>\n",
       "      <td>66.170397</td>\n",
       "      <td>65.296721</td>\n",
       "      <td>59.616703</td>\n",
       "      <td>59.527831</td>\n",
       "      <td>...</td>\n",
       "      <td>59.515890</td>\n",
       "      <td>59.557767</td>\n",
       "      <td>59.395202</td>\n",
       "      <td>59.458943</td>\n",
       "      <td>59.482715</td>\n",
       "      <td>59.682218</td>\n",
       "      <td>59.482715</td>\n",
       "      <td>59.569726</td>\n",
       "      <td>59.705401</td>\n",
       "      <td>59.295578</td>\n",
       "    </tr>\n",
       "    <tr>\n",
       "      <th>$Δ$t: 2.0ms</th>\n",
       "      <td>-0.076772</td>\n",
       "      <td>1.894380</td>\n",
       "      <td>0.715473</td>\n",
       "      <td>54.831195</td>\n",
       "      <td>60.457058</td>\n",
       "      <td>60.441094</td>\n",
       "      <td>66.896428</td>\n",
       "      <td>65.946896</td>\n",
       "      <td>60.299764</td>\n",
       "      <td>60.070346</td>\n",
       "      <td>...</td>\n",
       "      <td>59.976814</td>\n",
       "      <td>59.972341</td>\n",
       "      <td>60.031130</td>\n",
       "      <td>60.063318</td>\n",
       "      <td>60.029470</td>\n",
       "      <td>60.098150</td>\n",
       "      <td>60.136429</td>\n",
       "      <td>60.002971</td>\n",
       "      <td>60.133224</td>\n",
       "      <td>60.189010</td>\n",
       "    </tr>\n",
       "    <tr>\n",
       "      <th>$Δ$t: 1.0ms</th>\n",
       "      <td>-1.489603</td>\n",
       "      <td>3.678589</td>\n",
       "      <td>1.655717</td>\n",
       "      <td>54.745282</td>\n",
       "      <td>66.461570</td>\n",
       "      <td>66.836890</td>\n",
       "      <td>68.179554</td>\n",
       "      <td>69.384723</td>\n",
       "      <td>68.108006</td>\n",
       "      <td>67.484951</td>\n",
       "      <td>...</td>\n",
       "      <td>66.590727</td>\n",
       "      <td>66.301173</td>\n",
       "      <td>66.356785</td>\n",
       "      <td>66.273370</td>\n",
       "      <td>66.042840</td>\n",
       "      <td>66.118484</td>\n",
       "      <td>65.884447</td>\n",
       "      <td>65.998256</td>\n",
       "      <td>66.051125</td>\n",
       "      <td>65.688925</td>\n",
       "    </tr>\n",
       "    <tr>\n",
       "      <th>$Δ$t: 0.1ms</th>\n",
       "      <td>-8.839995</td>\n",
       "      <td>0.879684</td>\n",
       "      <td>3.497751</td>\n",
       "      <td>2.871415</td>\n",
       "      <td>12.392915</td>\n",
       "      <td>14.118647</td>\n",
       "      <td>13.921116</td>\n",
       "      <td>13.830393</td>\n",
       "      <td>15.129879</td>\n",
       "      <td>17.060157</td>\n",
       "      <td>...</td>\n",
       "      <td>16.849160</td>\n",
       "      <td>16.923934</td>\n",
       "      <td>16.858546</td>\n",
       "      <td>17.256262</td>\n",
       "      <td>17.002968</td>\n",
       "      <td>17.510881</td>\n",
       "      <td>15.793718</td>\n",
       "      <td>18.328790</td>\n",
       "      <td>17.795139</td>\n",
       "      <td>18.271858</td>\n",
       "    </tr>\n",
       "    <tr>\n",
       "      <th>$Δ$t: 0.01ms</th>\n",
       "      <td>-131.550238</td>\n",
       "      <td>-125.150059</td>\n",
       "      <td>-8.582081</td>\n",
       "      <td>-13.232486</td>\n",
       "      <td>-118.922625</td>\n",
       "      <td>-16.060987</td>\n",
       "      <td>-9.429553</td>\n",
       "      <td>-9.075445</td>\n",
       "      <td>-8.711468</td>\n",
       "      <td>-8.879348</td>\n",
       "      <td>...</td>\n",
       "      <td>-9.263931</td>\n",
       "      <td>-9.601595</td>\n",
       "      <td>-10.704067</td>\n",
       "      <td>-9.684513</td>\n",
       "      <td>-11.020191</td>\n",
       "      <td>-9.809038</td>\n",
       "      <td>-10.032969</td>\n",
       "      <td>-11.679069</td>\n",
       "      <td>-12.544921</td>\n",
       "      <td>-11.416240</td>\n",
       "    </tr>\n",
       "  </tbody>\n",
       "</table>\n",
       "<p>10 rows × 21 columns</p>\n",
       "</div>"
      ],
      "text/plain": [
       "                        1          1k        2k         3k          4k  \\\n",
       "$Δ$t: 100.0ms    3.337721    0.810429  1.704081   5.713207   -5.298501   \n",
       "$Δ$t: 64.0ms     3.899112    2.632228  0.054821   9.226633   12.337119   \n",
       "$Δ$t: 32.0ms     0.726001   -1.262841 -2.260036  33.915308   27.839335   \n",
       "$Δ$t: 16.0ms     1.487922   -0.072186 -0.830829  47.636715   47.045831   \n",
       "$Δ$t: 8.0ms      1.513661    0.941596 -0.521541  52.184647   57.546912   \n",
       "$Δ$t: 4.0ms      0.992365    1.637085 -0.325898  53.455126   59.023448   \n",
       "$Δ$t: 2.0ms     -0.076772    1.894380  0.715473  54.831195   60.457058   \n",
       "$Δ$t: 1.0ms     -1.489603    3.678589  1.655717  54.745282   66.461570   \n",
       "$Δ$t: 0.1ms     -8.839995    0.879684  3.497751   2.871415   12.392915   \n",
       "$Δ$t: 0.01ms  -131.550238 -125.150059 -8.582081 -13.232486 -118.922625   \n",
       "\n",
       "                      5k         6k         7k         8k         9k  ...  \\\n",
       "$Δ$t: 100.0ms  -3.456437  -3.721798  -7.673341  -0.415694  -0.497484  ...   \n",
       "$Δ$t: 64.0ms   11.875021  12.461095  11.279649  10.777922  10.696341  ...   \n",
       "$Δ$t: 32.0ms   26.537678  23.983219  20.400340  16.852318  16.852318  ...   \n",
       "$Δ$t: 16.0ms   45.875365  47.613591  42.691538  30.197252  30.602338  ...   \n",
       "$Δ$t: 8.0ms    57.703087  63.738271  60.951950  52.688903  53.314134  ...   \n",
       "$Δ$t: 4.0ms    59.479858  66.170397  65.296721  59.616703  59.527831  ...   \n",
       "$Δ$t: 2.0ms    60.441094  66.896428  65.946896  60.299764  60.070346  ...   \n",
       "$Δ$t: 1.0ms    66.836890  68.179554  69.384723  68.108006  67.484951  ...   \n",
       "$Δ$t: 0.1ms    14.118647  13.921116  13.830393  15.129879  17.060157  ...   \n",
       "$Δ$t: 0.01ms  -16.060987  -9.429553  -9.075445  -8.711468  -8.879348  ...   \n",
       "\n",
       "                     11k        12k        13k        14k        15k  \\\n",
       "$Δ$t: 100.0ms  -0.395692  -0.452807  -0.452807  -0.351908  -0.305226   \n",
       "$Δ$t: 64.0ms   10.606813  10.795037  10.827627  10.631012  10.713412   \n",
       "$Δ$t: 32.0ms   16.852318  16.771025  16.852318  16.852318  16.852318   \n",
       "$Δ$t: 16.0ms   31.100658  31.101265  30.879820  31.599957  30.711337   \n",
       "$Δ$t: 8.0ms    53.089898  53.623863  53.210929  53.779130  52.865159   \n",
       "$Δ$t: 4.0ms    59.515890  59.557767  59.395202  59.458943  59.482715   \n",
       "$Δ$t: 2.0ms    59.976814  59.972341  60.031130  60.063318  60.029470   \n",
       "$Δ$t: 1.0ms    66.590727  66.301173  66.356785  66.273370  66.042840   \n",
       "$Δ$t: 0.1ms    16.849160  16.923934  16.858546  17.256262  17.002968   \n",
       "$Δ$t: 0.01ms   -9.263931  -9.601595 -10.704067  -9.684513 -11.020191   \n",
       "\n",
       "                     16k        17k        18k        19k        20k  \n",
       "$Δ$t: 100.0ms  -0.331813  -0.367911  -0.441432  -0.228947  -0.321337  \n",
       "$Δ$t: 64.0ms   10.706211  10.591854  10.651879  10.774764  10.591854  \n",
       "$Δ$t: 32.0ms   16.852318  16.852318  16.852318  16.852318  16.965958  \n",
       "$Δ$t: 16.0ms   30.879861  30.865908  31.336667  30.449458  31.152421  \n",
       "$Δ$t: 8.0ms    52.387181  54.089949  53.623863  53.596093  53.204638  \n",
       "$Δ$t: 4.0ms    59.682218  59.482715  59.569726  59.705401  59.295578  \n",
       "$Δ$t: 2.0ms    60.098150  60.136429  60.002971  60.133224  60.189010  \n",
       "$Δ$t: 1.0ms    66.118484  65.884447  65.998256  66.051125  65.688925  \n",
       "$Δ$t: 0.1ms    17.510881  15.793718  18.328790  17.795139  18.271858  \n",
       "$Δ$t: 0.01ms   -9.809038 -10.032969 -11.679069 -12.544921 -11.416240  \n",
       "\n",
       "[10 rows x 21 columns]"
      ]
     },
     "execution_count": 31,
     "metadata": {},
     "output_type": "execute_result"
    }
   ],
   "source": [
    "r_df.head(10)"
   ]
  },
  {
   "cell_type": "code",
   "execution_count": 32,
   "metadata": {},
   "outputs": [],
   "source": [
    "r_df['1meg']=Rs"
   ]
  },
  {
   "cell_type": "code",
   "execution_count": 33,
   "metadata": {},
   "outputs": [],
   "source": [
    "r_df.to_csv('R_values_fireflies100_180s.csv')"
   ]
  },
  {
   "cell_type": "code",
   "execution_count": 34,
   "metadata": {},
   "outputs": [],
   "source": [
    "#rs.to_csv('R_values_fireflies100_180s.csv')"
   ]
  },
  {
   "cell_type": "code",
   "execution_count": null,
   "metadata": {},
   "outputs": [],
   "source": [
    "r_df.to_csv('R_values_fireflies100_180s.csv')"
   ]
  }
 ],
 "metadata": {
  "colab": {
   "collapsed_sections": [
    "7d1kfAx4QL17",
    "X1sr1MCotOLd",
    "hTvXbjXIucnl",
    "c7jPnw3nwpCh"
   ],
   "name": "Fireflies20.ipynb",
   "provenance": [],
   "toc_visible": true
  },
  "kernelspec": {
   "display_name": "Python 3 (ipykernel)",
   "language": "python",
   "name": "python3"
  },
  "language_info": {
   "codemirror_mode": {
    "name": "ipython",
    "version": 3
   },
   "file_extension": ".py",
   "mimetype": "text/x-python",
   "name": "python",
   "nbconvert_exporter": "python",
   "pygments_lexer": "ipython3",
   "version": "3.10.4"
  }
 },
 "nbformat": 4,
 "nbformat_minor": 1
}
